{
 "cells": [
  {
   "cell_type": "markdown",
   "id": "a9215f5c-525b-4508-8b0d-700f55cbd252",
   "metadata": {},
   "source": [
    "## Introduction to Data Science\n",
    "\n",
    "#### University of Redlands - DATA 101\n",
    "#### Prof: Joanna Bieri [joanna_bieri@redlands.edu](mailto:joanna_bieri@redlands.edu)\n",
    "#### [Class Website: data101.joannabieri.com](https://joannabieri.com/data101.html)\n",
    "\n",
    "---------------------------------------\n",
    "# Homework Day 7\n",
    "---------------------------------------\n",
    "\n",
    "GOALS:\n",
    "\n",
    "1. Answer all the questions from the lecture - we will use the scientists data and the grocery data.\n",
    "2. Analyze data about College majors - your first EDA! (Think of this as a practice exam.)\n",
    "\n",
    "----------------------------------------------------------\n",
    "\n",
    "This homework has **9 Questions** and **A Practice Exam**\n",
    "\n",
    "NOTE:\n",
    "The practice exam is intended to give you an idea of what an exam in this class might feel like. Remember you will be expected to work on the exam **independently** and submit your work before we get together to work on the exam in class. **15\\% of your Exam grade will come from what you can do independently** so start practicing now and get help if you need it!."
   ]
  },
  {
   "cell_type": "code",
   "execution_count": 1,
   "id": "049c24b6-a6c1-4ccc-b2de-5ea0366d09f8",
   "metadata": {},
   "outputs": [],
   "source": [
    "import numpy as np\n",
    "import pandas as pd\n",
    "\n",
    "import matplotlib.pyplot as plt\n",
    "import plotly.express as px\n",
    "from plotly.subplots import make_subplots\n",
    "import plotly.io as pio\n",
    "pio.renderers.defaule = 'colab'\n",
    "\n",
    "from itables import show"
   ]
  },
  {
   "cell_type": "markdown",
   "id": "23773272-c059-4148-a5a8-91e9da594c46",
   "metadata": {},
   "source": [
    "## Lecture Questions\n",
    "\n",
    "First we will import the data about female scientists."
   ]
  },
  {
   "cell_type": "code",
   "execution_count": 2,
   "id": "e90fdd5f-bd17-4c94-b3f4-7ddc998bd001",
   "metadata": {},
   "outputs": [
    {
     "data": {
      "text/html": [
       "<table id=\"itables_5c295e37_c428_47c1_98ee_eb8fd6ebea87\" class=\"display nowrap\" data-quarto-disable-processing=\"true\" style=\"table-layout:auto;width:auto;margin:auto;caption-side:bottom\">\n",
       "<thead>\n",
       "    <tr style=\"text-align: right;\">\n",
       "      \n",
       "      <th>name</th>\n",
       "      <th>birth_year</th>\n",
       "      <th>death_year</th>\n",
       "    </tr>\n",
       "  </thead><tbody><tr>\n",
       "<td style=\"vertical-align:middle; text-align:left\">\n",
       "<div style=\"float:left; margin-right: 10px;\">\n",
       "<a href=https://mwouts.github.io/itables/><svg class=\"main-svg\" xmlns=\"http://www.w3.org/2000/svg\" xmlns:xlink=\"http://www.w3.org/1999/xlink\"\n",
       "width=\"64\" viewBox=\"0 0 500 400\" style=\"font-family: 'Droid Sans', sans-serif;\">\n",
       "    <g style=\"fill:#d9d7fc\">\n",
       "        <path d=\"M100,400H500V357H100Z\" />\n",
       "        <path d=\"M100,300H400V257H100Z\" />\n",
       "        <path d=\"M0,200H400V157H0Z\" />\n",
       "        <path d=\"M100,100H500V57H100Z\" />\n",
       "        <path d=\"M100,350H500V307H100Z\" />\n",
       "        <path d=\"M100,250H400V207H100Z\" />\n",
       "        <path d=\"M0,150H400V107H0Z\" />\n",
       "        <path d=\"M100,50H500V7H100Z\" />\n",
       "    </g>\n",
       "    <g style=\"fill:#1a1366;stroke:#1a1366;\">\n",
       "   <rect x=\"100\" y=\"7\" width=\"400\" height=\"43\">\n",
       "    <animate\n",
       "      attributeName=\"width\"\n",
       "      values=\"0;400;0\"\n",
       "      dur=\"5s\"\n",
       "      repeatCount=\"indefinite\" />\n",
       "      <animate\n",
       "      attributeName=\"x\"\n",
       "      values=\"100;100;500\"\n",
       "      dur=\"5s\"\n",
       "      repeatCount=\"indefinite\" />\n",
       "  </rect>\n",
       "        <rect x=\"0\" y=\"107\" width=\"400\" height=\"43\">\n",
       "    <animate\n",
       "      attributeName=\"width\"\n",
       "      values=\"0;400;0\"\n",
       "      dur=\"3.5s\"\n",
       "      repeatCount=\"indefinite\" />\n",
       "    <animate\n",
       "      attributeName=\"x\"\n",
       "      values=\"0;0;400\"\n",
       "      dur=\"3.5s\"\n",
       "      repeatCount=\"indefinite\" />\n",
       "  </rect>\n",
       "        <rect x=\"100\" y=\"207\" width=\"300\" height=\"43\">\n",
       "    <animate\n",
       "      attributeName=\"width\"\n",
       "      values=\"0;300;0\"\n",
       "      dur=\"3s\"\n",
       "      repeatCount=\"indefinite\" />\n",
       "    <animate\n",
       "      attributeName=\"x\"\n",
       "      values=\"100;100;400\"\n",
       "      dur=\"3s\"\n",
       "      repeatCount=\"indefinite\" />\n",
       "  </rect>\n",
       "        <rect x=\"100\" y=\"307\" width=\"400\" height=\"43\">\n",
       "    <animate\n",
       "      attributeName=\"width\"\n",
       "      values=\"0;400;0\"\n",
       "      dur=\"4s\"\n",
       "      repeatCount=\"indefinite\" />\n",
       "      <animate\n",
       "      attributeName=\"x\"\n",
       "      values=\"100;100;500\"\n",
       "      dur=\"4s\"\n",
       "      repeatCount=\"indefinite\" />\n",
       "  </rect>\n",
       "        <g style=\"fill:transparent;stroke-width:8; stroke-linejoin:round\" rx=\"5\">\n",
       "            <g transform=\"translate(45 50) rotate(-45)\">\n",
       "                <circle r=\"33\" cx=\"0\" cy=\"0\" />\n",
       "                <rect x=\"-8\" y=\"32\" width=\"16\" height=\"30\" />\n",
       "            </g>\n",
       "\n",
       "            <g transform=\"translate(450 152)\">\n",
       "                <polyline points=\"-15,-20 -35,-20 -35,40 25,40 25,20\" />\n",
       "                <rect x=\"-15\" y=\"-40\" width=\"60\" height=\"60\" />\n",
       "            </g>\n",
       "\n",
       "            <g transform=\"translate(50 352)\">\n",
       "                <polygon points=\"-35,-5 0,-40 35,-5\" />\n",
       "                <polygon points=\"-35,10 0,45 35,10\" />\n",
       "            </g>\n",
       "\n",
       "            <g transform=\"translate(75 250)\">\n",
       "                <polyline points=\"-30,30 -60,0 -30,-30\" />\n",
       "                <polyline points=\"0,30 -30,0 0,-30\" />\n",
       "            </g>\n",
       "\n",
       "            <g transform=\"translate(425 250) rotate(180)\">\n",
       "                <polyline points=\"-30,30 -60,0 -30,-30\" />\n",
       "                <polyline points=\"0,30 -30,0 0,-30\" />\n",
       "            </g>\n",
       "        </g>\n",
       "    </g>\n",
       "</svg>\n",
       "</a>\n",
       "</div>\n",
       "<div>\n",
       "Loading ITables v2.1.4 from the internet...\n",
       "(need <a href=https://mwouts.github.io/itables/troubleshooting.html>help</a>?)</td>\n",
       "</div>\n",
       "</tr></tbody>\n",
       "\n",
       "</table>\n",
       "<link href=\"https://www.unpkg.com/dt_for_itables@2.0.11/dt_bundle.css\" rel=\"stylesheet\">\n",
       "<script type=\"module\">\n",
       "    import {DataTable, jQuery as $} from 'https://www.unpkg.com/dt_for_itables@2.0.11/dt_bundle.js';\n",
       "\n",
       "    document.querySelectorAll(\"#itables_5c295e37_c428_47c1_98ee_eb8fd6ebea87:not(.dataTable)\").forEach(table => {\n",
       "        // Define the table data\n",
       "        const data = [[\"Janaki Ammal\", 1897, 1984.0], [\"Chien-Shiung Wu\", 1912, 1997.0], [\"Katherine Johnson\", 1918, 2020.0], [\"Rosalind Franklin\", 1920, 1958.0], [\"Vera Rubin\", 1928, 2016.0], [\"Gladys West\", 1930, NaN], [\"Flossie Wong-Staal\", 1947, NaN], [\"Jennifer Doudna\", 1964, NaN]];\n",
       "\n",
       "        // Define the dt_args\n",
       "        let dt_args = {\"layout\": {\"topStart\": null, \"topEnd\": null, \"bottomStart\": null, \"bottomEnd\": null}, \"order\": []};\n",
       "        dt_args[\"data\"] = data;\n",
       "\n",
       "        \n",
       "        new DataTable(table, dt_args);\n",
       "    });\n",
       "</script>\n"
      ],
      "text/plain": [
       "<IPython.core.display.HTML object>"
      ]
     },
     "metadata": {},
     "output_type": "display_data"
    },
    {
     "data": {
      "text/html": [
       "<table id=\"itables_2d8e9672_714f_4101_ad68_efedaf106540\" class=\"display nowrap\" data-quarto-disable-processing=\"true\" style=\"table-layout:auto;width:auto;margin:auto;caption-side:bottom\">\n",
       "<thead>\n",
       "    <tr style=\"text-align: right;\">\n",
       "      \n",
       "      <th>name</th>\n",
       "      <th>profession</th>\n",
       "    </tr>\n",
       "  </thead><tbody><tr>\n",
       "<td style=\"vertical-align:middle; text-align:left\">\n",
       "<div style=\"float:left; margin-right: 10px;\">\n",
       "<a href=https://mwouts.github.io/itables/><svg class=\"main-svg\" xmlns=\"http://www.w3.org/2000/svg\" xmlns:xlink=\"http://www.w3.org/1999/xlink\"\n",
       "width=\"64\" viewBox=\"0 0 500 400\" style=\"font-family: 'Droid Sans', sans-serif;\">\n",
       "    <g style=\"fill:#d9d7fc\">\n",
       "        <path d=\"M100,400H500V357H100Z\" />\n",
       "        <path d=\"M100,300H400V257H100Z\" />\n",
       "        <path d=\"M0,200H400V157H0Z\" />\n",
       "        <path d=\"M100,100H500V57H100Z\" />\n",
       "        <path d=\"M100,350H500V307H100Z\" />\n",
       "        <path d=\"M100,250H400V207H100Z\" />\n",
       "        <path d=\"M0,150H400V107H0Z\" />\n",
       "        <path d=\"M100,50H500V7H100Z\" />\n",
       "    </g>\n",
       "    <g style=\"fill:#1a1366;stroke:#1a1366;\">\n",
       "   <rect x=\"100\" y=\"7\" width=\"400\" height=\"43\">\n",
       "    <animate\n",
       "      attributeName=\"width\"\n",
       "      values=\"0;400;0\"\n",
       "      dur=\"5s\"\n",
       "      repeatCount=\"indefinite\" />\n",
       "      <animate\n",
       "      attributeName=\"x\"\n",
       "      values=\"100;100;500\"\n",
       "      dur=\"5s\"\n",
       "      repeatCount=\"indefinite\" />\n",
       "  </rect>\n",
       "        <rect x=\"0\" y=\"107\" width=\"400\" height=\"43\">\n",
       "    <animate\n",
       "      attributeName=\"width\"\n",
       "      values=\"0;400;0\"\n",
       "      dur=\"3.5s\"\n",
       "      repeatCount=\"indefinite\" />\n",
       "    <animate\n",
       "      attributeName=\"x\"\n",
       "      values=\"0;0;400\"\n",
       "      dur=\"3.5s\"\n",
       "      repeatCount=\"indefinite\" />\n",
       "  </rect>\n",
       "        <rect x=\"100\" y=\"207\" width=\"300\" height=\"43\">\n",
       "    <animate\n",
       "      attributeName=\"width\"\n",
       "      values=\"0;300;0\"\n",
       "      dur=\"3s\"\n",
       "      repeatCount=\"indefinite\" />\n",
       "    <animate\n",
       "      attributeName=\"x\"\n",
       "      values=\"100;100;400\"\n",
       "      dur=\"3s\"\n",
       "      repeatCount=\"indefinite\" />\n",
       "  </rect>\n",
       "        <rect x=\"100\" y=\"307\" width=\"400\" height=\"43\">\n",
       "    <animate\n",
       "      attributeName=\"width\"\n",
       "      values=\"0;400;0\"\n",
       "      dur=\"4s\"\n",
       "      repeatCount=\"indefinite\" />\n",
       "      <animate\n",
       "      attributeName=\"x\"\n",
       "      values=\"100;100;500\"\n",
       "      dur=\"4s\"\n",
       "      repeatCount=\"indefinite\" />\n",
       "  </rect>\n",
       "        <g style=\"fill:transparent;stroke-width:8; stroke-linejoin:round\" rx=\"5\">\n",
       "            <g transform=\"translate(45 50) rotate(-45)\">\n",
       "                <circle r=\"33\" cx=\"0\" cy=\"0\" />\n",
       "                <rect x=\"-8\" y=\"32\" width=\"16\" height=\"30\" />\n",
       "            </g>\n",
       "\n",
       "            <g transform=\"translate(450 152)\">\n",
       "                <polyline points=\"-15,-20 -35,-20 -35,40 25,40 25,20\" />\n",
       "                <rect x=\"-15\" y=\"-40\" width=\"60\" height=\"60\" />\n",
       "            </g>\n",
       "\n",
       "            <g transform=\"translate(50 352)\">\n",
       "                <polygon points=\"-35,-5 0,-40 35,-5\" />\n",
       "                <polygon points=\"-35,10 0,45 35,10\" />\n",
       "            </g>\n",
       "\n",
       "            <g transform=\"translate(75 250)\">\n",
       "                <polyline points=\"-30,30 -60,0 -30,-30\" />\n",
       "                <polyline points=\"0,30 -30,0 0,-30\" />\n",
       "            </g>\n",
       "\n",
       "            <g transform=\"translate(425 250) rotate(180)\">\n",
       "                <polyline points=\"-30,30 -60,0 -30,-30\" />\n",
       "                <polyline points=\"0,30 -30,0 0,-30\" />\n",
       "            </g>\n",
       "        </g>\n",
       "    </g>\n",
       "</svg>\n",
       "</a>\n",
       "</div>\n",
       "<div>\n",
       "Loading ITables v2.1.4 from the internet...\n",
       "(need <a href=https://mwouts.github.io/itables/troubleshooting.html>help</a>?)</td>\n",
       "</div>\n",
       "</tr></tbody>\n",
       "\n",
       "</table>\n",
       "<link href=\"https://www.unpkg.com/dt_for_itables@2.0.11/dt_bundle.css\" rel=\"stylesheet\">\n",
       "<script type=\"module\">\n",
       "    import {DataTable, jQuery as $} from 'https://www.unpkg.com/dt_for_itables@2.0.11/dt_bundle.js';\n",
       "\n",
       "    document.querySelectorAll(\"#itables_2d8e9672_714f_4101_ad68_efedaf106540:not(.dataTable)\").forEach(table => {\n",
       "        // Define the table data\n",
       "        const data = [[\"Ada Lovelace\", \"Mathematician\"], [\"Marie Curie\", \"Physicist and Chemist\"], [\"Janaki Ammal\", \"Botanist\"], [\"Chien-Shiung Wu\", \"Physicist\"], [\"Katherine Johnson\", \"Mathematician\"], [\"Rosalind Franklin\", \"Chemist\"], [\"Vera Rubin\", \"Astronomer\"], [\"Gladys West\", \"Mathematician\"], [\"Flossie Wong-Staal\", \"Virologist and Molecular Biologist\"], [\"Jennifer Doudna\", \"Biochemist\"]];\n",
       "\n",
       "        // Define the dt_args\n",
       "        let dt_args = {\"layout\": {\"topStart\": null, \"topEnd\": null, \"bottomStart\": null, \"bottomEnd\": null}, \"order\": []};\n",
       "        dt_args[\"data\"] = data;\n",
       "\n",
       "        \n",
       "        new DataTable(table, dt_args);\n",
       "    });\n",
       "</script>\n"
      ],
      "text/plain": [
       "<IPython.core.display.HTML object>"
      ]
     },
     "metadata": {},
     "output_type": "display_data"
    },
    {
     "data": {
      "text/html": [
       "<table id=\"itables_8db6656d_f726_4603_a98a_027751dcc205\" class=\"display nowrap\" data-quarto-disable-processing=\"true\" style=\"table-layout:auto;width:auto;margin:auto;caption-side:bottom\">\n",
       "<thead>\n",
       "    <tr style=\"text-align: right;\">\n",
       "      \n",
       "      <th>name</th>\n",
       "      <th>known_for</th>\n",
       "    </tr>\n",
       "  </thead><tbody><tr>\n",
       "<td style=\"vertical-align:middle; text-align:left\">\n",
       "<div style=\"float:left; margin-right: 10px;\">\n",
       "<a href=https://mwouts.github.io/itables/><svg class=\"main-svg\" xmlns=\"http://www.w3.org/2000/svg\" xmlns:xlink=\"http://www.w3.org/1999/xlink\"\n",
       "width=\"64\" viewBox=\"0 0 500 400\" style=\"font-family: 'Droid Sans', sans-serif;\">\n",
       "    <g style=\"fill:#d9d7fc\">\n",
       "        <path d=\"M100,400H500V357H100Z\" />\n",
       "        <path d=\"M100,300H400V257H100Z\" />\n",
       "        <path d=\"M0,200H400V157H0Z\" />\n",
       "        <path d=\"M100,100H500V57H100Z\" />\n",
       "        <path d=\"M100,350H500V307H100Z\" />\n",
       "        <path d=\"M100,250H400V207H100Z\" />\n",
       "        <path d=\"M0,150H400V107H0Z\" />\n",
       "        <path d=\"M100,50H500V7H100Z\" />\n",
       "    </g>\n",
       "    <g style=\"fill:#1a1366;stroke:#1a1366;\">\n",
       "   <rect x=\"100\" y=\"7\" width=\"400\" height=\"43\">\n",
       "    <animate\n",
       "      attributeName=\"width\"\n",
       "      values=\"0;400;0\"\n",
       "      dur=\"5s\"\n",
       "      repeatCount=\"indefinite\" />\n",
       "      <animate\n",
       "      attributeName=\"x\"\n",
       "      values=\"100;100;500\"\n",
       "      dur=\"5s\"\n",
       "      repeatCount=\"indefinite\" />\n",
       "  </rect>\n",
       "        <rect x=\"0\" y=\"107\" width=\"400\" height=\"43\">\n",
       "    <animate\n",
       "      attributeName=\"width\"\n",
       "      values=\"0;400;0\"\n",
       "      dur=\"3.5s\"\n",
       "      repeatCount=\"indefinite\" />\n",
       "    <animate\n",
       "      attributeName=\"x\"\n",
       "      values=\"0;0;400\"\n",
       "      dur=\"3.5s\"\n",
       "      repeatCount=\"indefinite\" />\n",
       "  </rect>\n",
       "        <rect x=\"100\" y=\"207\" width=\"300\" height=\"43\">\n",
       "    <animate\n",
       "      attributeName=\"width\"\n",
       "      values=\"0;300;0\"\n",
       "      dur=\"3s\"\n",
       "      repeatCount=\"indefinite\" />\n",
       "    <animate\n",
       "      attributeName=\"x\"\n",
       "      values=\"100;100;400\"\n",
       "      dur=\"3s\"\n",
       "      repeatCount=\"indefinite\" />\n",
       "  </rect>\n",
       "        <rect x=\"100\" y=\"307\" width=\"400\" height=\"43\">\n",
       "    <animate\n",
       "      attributeName=\"width\"\n",
       "      values=\"0;400;0\"\n",
       "      dur=\"4s\"\n",
       "      repeatCount=\"indefinite\" />\n",
       "      <animate\n",
       "      attributeName=\"x\"\n",
       "      values=\"100;100;500\"\n",
       "      dur=\"4s\"\n",
       "      repeatCount=\"indefinite\" />\n",
       "  </rect>\n",
       "        <g style=\"fill:transparent;stroke-width:8; stroke-linejoin:round\" rx=\"5\">\n",
       "            <g transform=\"translate(45 50) rotate(-45)\">\n",
       "                <circle r=\"33\" cx=\"0\" cy=\"0\" />\n",
       "                <rect x=\"-8\" y=\"32\" width=\"16\" height=\"30\" />\n",
       "            </g>\n",
       "\n",
       "            <g transform=\"translate(450 152)\">\n",
       "                <polyline points=\"-15,-20 -35,-20 -35,40 25,40 25,20\" />\n",
       "                <rect x=\"-15\" y=\"-40\" width=\"60\" height=\"60\" />\n",
       "            </g>\n",
       "\n",
       "            <g transform=\"translate(50 352)\">\n",
       "                <polygon points=\"-35,-5 0,-40 35,-5\" />\n",
       "                <polygon points=\"-35,10 0,45 35,10\" />\n",
       "            </g>\n",
       "\n",
       "            <g transform=\"translate(75 250)\">\n",
       "                <polyline points=\"-30,30 -60,0 -30,-30\" />\n",
       "                <polyline points=\"0,30 -30,0 0,-30\" />\n",
       "            </g>\n",
       "\n",
       "            <g transform=\"translate(425 250) rotate(180)\">\n",
       "                <polyline points=\"-30,30 -60,0 -30,-30\" />\n",
       "                <polyline points=\"0,30 -30,0 0,-30\" />\n",
       "            </g>\n",
       "        </g>\n",
       "    </g>\n",
       "</svg>\n",
       "</a>\n",
       "</div>\n",
       "<div>\n",
       "Loading ITables v2.1.4 from the internet...\n",
       "(need <a href=https://mwouts.github.io/itables/troubleshooting.html>help</a>?)</td>\n",
       "</div>\n",
       "</tr></tbody>\n",
       "\n",
       "</table>\n",
       "<link href=\"https://www.unpkg.com/dt_for_itables@2.0.11/dt_bundle.css\" rel=\"stylesheet\">\n",
       "<script type=\"module\">\n",
       "    import {DataTable, jQuery as $} from 'https://www.unpkg.com/dt_for_itables@2.0.11/dt_bundle.js';\n",
       "\n",
       "    document.querySelectorAll(\"#itables_8db6656d_f726_4603_a98a_027751dcc205:not(.dataTable)\").forEach(table => {\n",
       "        // Define the table data\n",
       "        const data = [[\"Ada Lovelace\", \"first computer algorithm\"], [\"Marie Curie\", \"theory of radioactivity,  discovery of elements polonium and radium, first woman to win a Nobel Prize\"], [\"Janaki Ammal\", \"hybrid species, biodiversity protection\"], [\"Chien-Shiung Wu\", \"confim and refine theory of radioactive beta decy, Wu experiment overturning theory of parity\"], [\"Katherine Johnson\", \"calculations of orbital mechanics critical to sending the first Americans into space\"], [\"Vera Rubin\", \"existence of dark matter\"], [\"Gladys West\", \"mathematical modeling of the shape of the Earth which served as the foundation of GPS technology\"], [\"Flossie Wong-Staal\", \"first scientist to clone HIV and create a map of its genes which led to a test for the virus\"], [\"Jennifer Doudna\", \"one of the primary developers of CRISPR, a ground-breaking technology for editing genomes\"]];\n",
       "\n",
       "        // Define the dt_args\n",
       "        let dt_args = {\"layout\": {\"topStart\": null, \"topEnd\": null, \"bottomStart\": null, \"bottomEnd\": null}, \"order\": []};\n",
       "        dt_args[\"data\"] = data;\n",
       "\n",
       "        \n",
       "        new DataTable(table, dt_args);\n",
       "    });\n",
       "</script>\n"
      ],
      "text/plain": [
       "<IPython.core.display.HTML object>"
      ]
     },
     "metadata": {},
     "output_type": "display_data"
    }
   ],
   "source": [
    "file1 = 'https://joannabieri.com/introdatascience/data/dates.csv'\n",
    "DF_dates = pd.read_csv(file1)\n",
    "file2 = 'https://joannabieri.com/introdatascience/data/professions.csv'\n",
    "DF_professions = pd.read_csv(file2)\n",
    "file3 = 'https://joannabieri.com/introdatascience/data/works.csv'\n",
    "DF_works = pd.read_csv(file3)\n",
    "show(DF_dates)\n",
    "show(DF_professions)\n",
    "show(DF_works)"
   ]
  },
  {
   "cell_type": "markdown",
   "id": "941e4499-edd1-4210-b3ff-292dd2eb4df7",
   "metadata": {},
   "source": [
    "**Q1** Are each of these data sets Tidy? \n",
    "\n",
    "**Q2** Do they all contain the same number of observations?\n",
    "\n",
    "**Q3** What are the five variables?\n",
    "\n",
    "**Q4** What variable do they have in common - what can we join **on**"
   ]
  },
  {
   "cell_type": "markdown",
   "id": "0e1f769b-d87d-429a-9de8-c35af020525d",
   "metadata": {},
   "source": [
    "**(Click Here)**\n",
    "\n",
    "These datasets are not tidy. Some contain too many words and there are some missing values in the rows. "
   ]
  },
  {
   "cell_type": "code",
   "execution_count": 8,
   "id": "9e493f16-0cd6-4dc2-8a43-ca497a0daef7",
   "metadata": {},
   "outputs": [
    {
     "name": "stdout",
     "output_type": "stream",
     "text": [
      "8\n",
      "10\n",
      "9\n",
      "They do not all have the same number of observations.\n",
      "\n",
      "Index(['name', 'birth_year', 'death_year'], dtype='object')\n",
      "Index(['name', 'profession'], dtype='object')\n",
      "Index(['name', 'known_for'], dtype='object')\n",
      "\n",
      "The 'name' column is the same for the three datasets. We can join them there.\n"
     ]
    }
   ],
   "source": [
    "print(len(DF_dates))\n",
    "print(len(DF_professions))\n",
    "print(len(DF_works))\n",
    "print('They do not all have the same number of observations.')\n",
    "print('')\n",
    "print(DF_dates.columns)\n",
    "print(DF_professions.columns)\n",
    "print(DF_works.columns)\n",
    "print('')\n",
    "print('The \\'name\\' column is the same for the three datasets. We can join them there.')"
   ]
  },
  {
   "cell_type": "markdown",
   "id": "fa09683e-ac6a-4cb5-a47d-6cbf580524d2",
   "metadata": {},
   "source": [
    "## Combining Three Data Sets\n",
    "\n",
    "You need to think about the order and whether or not you want to keep the maximum number of names or only keep names that are in all the data frames.\n",
    "\n",
    "In this case we will try to keep the maximal amount of data - the maximum number of names.\n",
    "\n",
    "1. Combine the professions and works data\n",
    "2. Then add the dates data"
   ]
  },
  {
   "cell_type": "code",
   "execution_count": 16,
   "id": "1e06d293-4d62-49f6-86c5-568b22cee865",
   "metadata": {
    "scrolled": true
   },
   "outputs": [
    {
     "data": {
      "text/html": [
       "<div>\n",
       "<style scoped>\n",
       "    .dataframe tbody tr th:only-of-type {\n",
       "        vertical-align: middle;\n",
       "    }\n",
       "\n",
       "    .dataframe tbody tr th {\n",
       "        vertical-align: top;\n",
       "    }\n",
       "\n",
       "    .dataframe thead th {\n",
       "        text-align: right;\n",
       "    }\n",
       "</style>\n",
       "<table border=\"1\" class=\"dataframe\">\n",
       "  <thead>\n",
       "    <tr style=\"text-align: right;\">\n",
       "      <th></th>\n",
       "      <th>name</th>\n",
       "      <th>profession</th>\n",
       "      <th>known_for</th>\n",
       "      <th>birth_year</th>\n",
       "      <th>death_year</th>\n",
       "    </tr>\n",
       "  </thead>\n",
       "  <tbody>\n",
       "    <tr>\n",
       "      <th>0</th>\n",
       "      <td>Ada Lovelace</td>\n",
       "      <td>Mathematician</td>\n",
       "      <td>first computer algorithm</td>\n",
       "      <td>NaN</td>\n",
       "      <td>NaN</td>\n",
       "    </tr>\n",
       "    <tr>\n",
       "      <th>1</th>\n",
       "      <td>Marie Curie</td>\n",
       "      <td>Physicist and Chemist</td>\n",
       "      <td>theory of radioactivity,  discovery of element...</td>\n",
       "      <td>NaN</td>\n",
       "      <td>NaN</td>\n",
       "    </tr>\n",
       "    <tr>\n",
       "      <th>2</th>\n",
       "      <td>Janaki Ammal</td>\n",
       "      <td>Botanist</td>\n",
       "      <td>hybrid species, biodiversity protection</td>\n",
       "      <td>1897.0</td>\n",
       "      <td>1984.0</td>\n",
       "    </tr>\n",
       "    <tr>\n",
       "      <th>3</th>\n",
       "      <td>Chien-Shiung Wu</td>\n",
       "      <td>Physicist</td>\n",
       "      <td>confim and refine theory of radioactive beta d...</td>\n",
       "      <td>1912.0</td>\n",
       "      <td>1997.0</td>\n",
       "    </tr>\n",
       "    <tr>\n",
       "      <th>4</th>\n",
       "      <td>Katherine Johnson</td>\n",
       "      <td>Mathematician</td>\n",
       "      <td>calculations of orbital mechanics critical to ...</td>\n",
       "      <td>1918.0</td>\n",
       "      <td>2020.0</td>\n",
       "    </tr>\n",
       "    <tr>\n",
       "      <th>5</th>\n",
       "      <td>Rosalind Franklin</td>\n",
       "      <td>Chemist</td>\n",
       "      <td>NaN</td>\n",
       "      <td>1920.0</td>\n",
       "      <td>1958.0</td>\n",
       "    </tr>\n",
       "    <tr>\n",
       "      <th>6</th>\n",
       "      <td>Vera Rubin</td>\n",
       "      <td>Astronomer</td>\n",
       "      <td>existence of dark matter</td>\n",
       "      <td>1928.0</td>\n",
       "      <td>2016.0</td>\n",
       "    </tr>\n",
       "    <tr>\n",
       "      <th>7</th>\n",
       "      <td>Gladys West</td>\n",
       "      <td>Mathematician</td>\n",
       "      <td>mathematical modeling of the shape of the Eart...</td>\n",
       "      <td>1930.0</td>\n",
       "      <td>NaN</td>\n",
       "    </tr>\n",
       "    <tr>\n",
       "      <th>8</th>\n",
       "      <td>Flossie Wong-Staal</td>\n",
       "      <td>Virologist and Molecular Biologist</td>\n",
       "      <td>first scientist to clone HIV and create a map ...</td>\n",
       "      <td>1947.0</td>\n",
       "      <td>NaN</td>\n",
       "    </tr>\n",
       "    <tr>\n",
       "      <th>9</th>\n",
       "      <td>Jennifer Doudna</td>\n",
       "      <td>Biochemist</td>\n",
       "      <td>one of the primary developers of CRISPR, a gro...</td>\n",
       "      <td>1964.0</td>\n",
       "      <td>NaN</td>\n",
       "    </tr>\n",
       "  </tbody>\n",
       "</table>\n",
       "</div>"
      ],
      "text/plain": [
       "                 name                          profession  \\\n",
       "0        Ada Lovelace                       Mathematician   \n",
       "1         Marie Curie               Physicist and Chemist   \n",
       "2        Janaki Ammal                            Botanist   \n",
       "3     Chien-Shiung Wu                           Physicist   \n",
       "4   Katherine Johnson                       Mathematician   \n",
       "5   Rosalind Franklin                             Chemist   \n",
       "6          Vera Rubin                          Astronomer   \n",
       "7         Gladys West                       Mathematician   \n",
       "8  Flossie Wong-Staal  Virologist and Molecular Biologist   \n",
       "9     Jennifer Doudna                          Biochemist   \n",
       "\n",
       "                                           known_for  birth_year  death_year  \n",
       "0                           first computer algorithm         NaN         NaN  \n",
       "1  theory of radioactivity,  discovery of element...         NaN         NaN  \n",
       "2            hybrid species, biodiversity protection      1897.0      1984.0  \n",
       "3  confim and refine theory of radioactive beta d...      1912.0      1997.0  \n",
       "4  calculations of orbital mechanics critical to ...      1918.0      2020.0  \n",
       "5                                                NaN      1920.0      1958.0  \n",
       "6                           existence of dark matter      1928.0      2016.0  \n",
       "7  mathematical modeling of the shape of the Eart...      1930.0         NaN  \n",
       "8  first scientist to clone HIV and create a map ...      1947.0         NaN  \n",
       "9  one of the primary developers of CRISPR, a gro...      1964.0         NaN  "
      ]
     },
     "execution_count": 16,
     "metadata": {},
     "output_type": "execute_result"
    }
   ],
   "source": [
    "# 1. Combine the professions and works data\n",
    "DF_scientists = pd.merge(DF_professions,DF_works,on='name',how='left')\n",
    "DF_scientists\n",
    "# 2. Then add the dates data\n",
    "DF_scientists = pd.merge(DF_scientists,DF_dates,on='name',how='left')\n",
    "DF_scientists"
   ]
  },
  {
   "cell_type": "code",
   "execution_count": 17,
   "id": "5e72c1b5-0d1a-4677-9e31-90877d7ccdc1",
   "metadata": {},
   "outputs": [
    {
     "data": {
      "text/html": [
       "<div>\n",
       "<style scoped>\n",
       "    .dataframe tbody tr th:only-of-type {\n",
       "        vertical-align: middle;\n",
       "    }\n",
       "\n",
       "    .dataframe tbody tr th {\n",
       "        vertical-align: top;\n",
       "    }\n",
       "\n",
       "    .dataframe thead th {\n",
       "        text-align: right;\n",
       "    }\n",
       "</style>\n",
       "<table border=\"1\" class=\"dataframe\">\n",
       "  <thead>\n",
       "    <tr style=\"text-align: right;\">\n",
       "      <th></th>\n",
       "      <th>name</th>\n",
       "      <th>profession</th>\n",
       "      <th>known_for</th>\n",
       "      <th>birth_year</th>\n",
       "      <th>death_year</th>\n",
       "    </tr>\n",
       "  </thead>\n",
       "  <tbody>\n",
       "    <tr>\n",
       "      <th>0</th>\n",
       "      <td>Janaki Ammal</td>\n",
       "      <td>Botanist</td>\n",
       "      <td>hybrid species, biodiversity protection</td>\n",
       "      <td>1897</td>\n",
       "      <td>1984.0</td>\n",
       "    </tr>\n",
       "    <tr>\n",
       "      <th>1</th>\n",
       "      <td>Chien-Shiung Wu</td>\n",
       "      <td>Physicist</td>\n",
       "      <td>confim and refine theory of radioactive beta d...</td>\n",
       "      <td>1912</td>\n",
       "      <td>1997.0</td>\n",
       "    </tr>\n",
       "    <tr>\n",
       "      <th>2</th>\n",
       "      <td>Katherine Johnson</td>\n",
       "      <td>Mathematician</td>\n",
       "      <td>calculations of orbital mechanics critical to ...</td>\n",
       "      <td>1918</td>\n",
       "      <td>2020.0</td>\n",
       "    </tr>\n",
       "    <tr>\n",
       "      <th>3</th>\n",
       "      <td>Rosalind Franklin</td>\n",
       "      <td>NaN</td>\n",
       "      <td>NaN</td>\n",
       "      <td>1920</td>\n",
       "      <td>1958.0</td>\n",
       "    </tr>\n",
       "    <tr>\n",
       "      <th>4</th>\n",
       "      <td>Vera Rubin</td>\n",
       "      <td>Astronomer</td>\n",
       "      <td>existence of dark matter</td>\n",
       "      <td>1928</td>\n",
       "      <td>2016.0</td>\n",
       "    </tr>\n",
       "    <tr>\n",
       "      <th>5</th>\n",
       "      <td>Gladys West</td>\n",
       "      <td>Mathematician</td>\n",
       "      <td>mathematical modeling of the shape of the Eart...</td>\n",
       "      <td>1930</td>\n",
       "      <td>NaN</td>\n",
       "    </tr>\n",
       "    <tr>\n",
       "      <th>6</th>\n",
       "      <td>Flossie Wong-Staal</td>\n",
       "      <td>Virologist and Molecular Biologist</td>\n",
       "      <td>first scientist to clone HIV and create a map ...</td>\n",
       "      <td>1947</td>\n",
       "      <td>NaN</td>\n",
       "    </tr>\n",
       "    <tr>\n",
       "      <th>7</th>\n",
       "      <td>Jennifer Doudna</td>\n",
       "      <td>Biochemist</td>\n",
       "      <td>one of the primary developers of CRISPR, a gro...</td>\n",
       "      <td>1964</td>\n",
       "      <td>NaN</td>\n",
       "    </tr>\n",
       "  </tbody>\n",
       "</table>\n",
       "</div>"
      ],
      "text/plain": [
       "                 name                          profession  \\\n",
       "0        Janaki Ammal                            Botanist   \n",
       "1     Chien-Shiung Wu                           Physicist   \n",
       "2   Katherine Johnson                       Mathematician   \n",
       "3   Rosalind Franklin                                 NaN   \n",
       "4          Vera Rubin                          Astronomer   \n",
       "5         Gladys West                       Mathematician   \n",
       "6  Flossie Wong-Staal  Virologist and Molecular Biologist   \n",
       "7     Jennifer Doudna                          Biochemist   \n",
       "\n",
       "                                           known_for  birth_year  death_year  \n",
       "0            hybrid species, biodiversity protection        1897      1984.0  \n",
       "1  confim and refine theory of radioactive beta d...        1912      1997.0  \n",
       "2  calculations of orbital mechanics critical to ...        1918      2020.0  \n",
       "3                                                NaN        1920      1958.0  \n",
       "4                           existence of dark matter        1928      2016.0  \n",
       "5  mathematical modeling of the shape of the Eart...        1930         NaN  \n",
       "6  first scientist to clone HIV and create a map ...        1947         NaN  \n",
       "7  one of the primary developers of CRISPR, a gro...        1964         NaN  "
      ]
     },
     "execution_count": 17,
     "metadata": {},
     "output_type": "execute_result"
    }
   ],
   "source": [
    "# 1. Combine the professions and works data\n",
    "DF_scientists = pd.merge(DF_professions,DF_works,on='name',how='right')\n",
    "DF_scientists\n",
    "# 2. Then add the dates data\n",
    "DF_scientists = pd.merge(DF_scientists,DF_dates,on='name',how='right')\n",
    "DF_scientists"
   ]
  },
  {
   "cell_type": "markdown",
   "id": "e2bbc33c-6c0e-4ca8-ad72-de5018bddce8",
   "metadata": {},
   "source": [
    "**Q5** What, if anything, would change if you switched to how='right'?"
   ]
  },
  {
   "cell_type": "markdown",
   "id": "def3bc37-ca8a-4782-a154-6b51e084b944",
   "metadata": {},
   "source": [
    "**(Click Here)**\n",
    "\n",
    "Two names (Ada Lovelace and Marie Curies) were omitted when I switched to how='right'."
   ]
  },
  {
   "cell_type": "markdown",
   "id": "26a9dee0-e533-4439-8972-f2e69b544ec9",
   "metadata": {},
   "source": [
    "## Combining Two Data Sets - You Try\n",
    "\n",
    "**Q6** Write code that would combine the professions data and the dates data, but drop any names that don't appear in both."
   ]
  },
  {
   "cell_type": "code",
   "execution_count": 32,
   "id": "18d09352-c2dc-4c21-887d-7e54387c55a9",
   "metadata": {},
   "outputs": [
    {
     "data": {
      "text/html": [
       "<div>\n",
       "<style scoped>\n",
       "    .dataframe tbody tr th:only-of-type {\n",
       "        vertical-align: middle;\n",
       "    }\n",
       "\n",
       "    .dataframe tbody tr th {\n",
       "        vertical-align: top;\n",
       "    }\n",
       "\n",
       "    .dataframe thead th {\n",
       "        text-align: right;\n",
       "    }\n",
       "</style>\n",
       "<table border=\"1\" class=\"dataframe\">\n",
       "  <thead>\n",
       "    <tr style=\"text-align: right;\">\n",
       "      <th></th>\n",
       "      <th>name</th>\n",
       "      <th>profession</th>\n",
       "      <th>birth_year</th>\n",
       "      <th>death_year</th>\n",
       "    </tr>\n",
       "  </thead>\n",
       "  <tbody>\n",
       "    <tr>\n",
       "      <th>0</th>\n",
       "      <td>Janaki Ammal</td>\n",
       "      <td>Botanist</td>\n",
       "      <td>1897</td>\n",
       "      <td>1984.0</td>\n",
       "    </tr>\n",
       "    <tr>\n",
       "      <th>1</th>\n",
       "      <td>Chien-Shiung Wu</td>\n",
       "      <td>Physicist</td>\n",
       "      <td>1912</td>\n",
       "      <td>1997.0</td>\n",
       "    </tr>\n",
       "    <tr>\n",
       "      <th>2</th>\n",
       "      <td>Katherine Johnson</td>\n",
       "      <td>Mathematician</td>\n",
       "      <td>1918</td>\n",
       "      <td>2020.0</td>\n",
       "    </tr>\n",
       "    <tr>\n",
       "      <th>3</th>\n",
       "      <td>Rosalind Franklin</td>\n",
       "      <td>Chemist</td>\n",
       "      <td>1920</td>\n",
       "      <td>1958.0</td>\n",
       "    </tr>\n",
       "    <tr>\n",
       "      <th>4</th>\n",
       "      <td>Vera Rubin</td>\n",
       "      <td>Astronomer</td>\n",
       "      <td>1928</td>\n",
       "      <td>2016.0</td>\n",
       "    </tr>\n",
       "    <tr>\n",
       "      <th>5</th>\n",
       "      <td>Gladys West</td>\n",
       "      <td>Mathematician</td>\n",
       "      <td>1930</td>\n",
       "      <td>NaN</td>\n",
       "    </tr>\n",
       "    <tr>\n",
       "      <th>6</th>\n",
       "      <td>Flossie Wong-Staal</td>\n",
       "      <td>Virologist and Molecular Biologist</td>\n",
       "      <td>1947</td>\n",
       "      <td>NaN</td>\n",
       "    </tr>\n",
       "    <tr>\n",
       "      <th>7</th>\n",
       "      <td>Jennifer Doudna</td>\n",
       "      <td>Biochemist</td>\n",
       "      <td>1964</td>\n",
       "      <td>NaN</td>\n",
       "    </tr>\n",
       "  </tbody>\n",
       "</table>\n",
       "</div>"
      ],
      "text/plain": [
       "                 name                          profession  birth_year  \\\n",
       "0        Janaki Ammal                            Botanist        1897   \n",
       "1     Chien-Shiung Wu                           Physicist        1912   \n",
       "2   Katherine Johnson                       Mathematician        1918   \n",
       "3   Rosalind Franklin                             Chemist        1920   \n",
       "4          Vera Rubin                          Astronomer        1928   \n",
       "5         Gladys West                       Mathematician        1930   \n",
       "6  Flossie Wong-Staal  Virologist and Molecular Biologist        1947   \n",
       "7     Jennifer Doudna                          Biochemist        1964   \n",
       "\n",
       "   death_year  \n",
       "0      1984.0  \n",
       "1      1997.0  \n",
       "2      2020.0  \n",
       "3      1958.0  \n",
       "4      2016.0  \n",
       "5         NaN  \n",
       "6         NaN  \n",
       "7         NaN  "
      ]
     },
     "execution_count": 32,
     "metadata": {},
     "output_type": "execute_result"
    }
   ],
   "source": [
    "# Your code here\n",
    "#print(DF_professions['name'])\n",
    "#print(DF_dates['name'])\n",
    "df = pd.merge(DF_professions,DF_dates,on='name',how='inner')\n",
    "df"
   ]
  },
  {
   "cell_type": "markdown",
   "id": "81aaba84-81ab-4fc7-95cb-e6df13157e2c",
   "metadata": {},
   "source": [
    "## Combining Three Data Sets - You Try\n",
    "\n",
    "**Q7** Try to combine the three data sets together (professions, works, and dates) but instead of doing what we did above, see if you can keep only the names that appeared in all three data sets."
   ]
  },
  {
   "cell_type": "code",
   "execution_count": 33,
   "id": "c2766e8b-f125-4bd6-9937-13cd92c8ba62",
   "metadata": {},
   "outputs": [
    {
     "data": {
      "text/html": [
       "<div>\n",
       "<style scoped>\n",
       "    .dataframe tbody tr th:only-of-type {\n",
       "        vertical-align: middle;\n",
       "    }\n",
       "\n",
       "    .dataframe tbody tr th {\n",
       "        vertical-align: top;\n",
       "    }\n",
       "\n",
       "    .dataframe thead th {\n",
       "        text-align: right;\n",
       "    }\n",
       "</style>\n",
       "<table border=\"1\" class=\"dataframe\">\n",
       "  <thead>\n",
       "    <tr style=\"text-align: right;\">\n",
       "      <th></th>\n",
       "      <th>name</th>\n",
       "      <th>profession</th>\n",
       "      <th>birth_year</th>\n",
       "      <th>death_year</th>\n",
       "      <th>known_for</th>\n",
       "    </tr>\n",
       "  </thead>\n",
       "  <tbody>\n",
       "    <tr>\n",
       "      <th>0</th>\n",
       "      <td>Janaki Ammal</td>\n",
       "      <td>Botanist</td>\n",
       "      <td>1897</td>\n",
       "      <td>1984.0</td>\n",
       "      <td>hybrid species, biodiversity protection</td>\n",
       "    </tr>\n",
       "    <tr>\n",
       "      <th>1</th>\n",
       "      <td>Chien-Shiung Wu</td>\n",
       "      <td>Physicist</td>\n",
       "      <td>1912</td>\n",
       "      <td>1997.0</td>\n",
       "      <td>confim and refine theory of radioactive beta d...</td>\n",
       "    </tr>\n",
       "    <tr>\n",
       "      <th>2</th>\n",
       "      <td>Katherine Johnson</td>\n",
       "      <td>Mathematician</td>\n",
       "      <td>1918</td>\n",
       "      <td>2020.0</td>\n",
       "      <td>calculations of orbital mechanics critical to ...</td>\n",
       "    </tr>\n",
       "    <tr>\n",
       "      <th>3</th>\n",
       "      <td>Vera Rubin</td>\n",
       "      <td>Astronomer</td>\n",
       "      <td>1928</td>\n",
       "      <td>2016.0</td>\n",
       "      <td>existence of dark matter</td>\n",
       "    </tr>\n",
       "    <tr>\n",
       "      <th>4</th>\n",
       "      <td>Gladys West</td>\n",
       "      <td>Mathematician</td>\n",
       "      <td>1930</td>\n",
       "      <td>NaN</td>\n",
       "      <td>mathematical modeling of the shape of the Eart...</td>\n",
       "    </tr>\n",
       "    <tr>\n",
       "      <th>5</th>\n",
       "      <td>Flossie Wong-Staal</td>\n",
       "      <td>Virologist and Molecular Biologist</td>\n",
       "      <td>1947</td>\n",
       "      <td>NaN</td>\n",
       "      <td>first scientist to clone HIV and create a map ...</td>\n",
       "    </tr>\n",
       "    <tr>\n",
       "      <th>6</th>\n",
       "      <td>Jennifer Doudna</td>\n",
       "      <td>Biochemist</td>\n",
       "      <td>1964</td>\n",
       "      <td>NaN</td>\n",
       "      <td>one of the primary developers of CRISPR, a gro...</td>\n",
       "    </tr>\n",
       "  </tbody>\n",
       "</table>\n",
       "</div>"
      ],
      "text/plain": [
       "                 name                          profession  birth_year  \\\n",
       "0        Janaki Ammal                            Botanist        1897   \n",
       "1     Chien-Shiung Wu                           Physicist        1912   \n",
       "2   Katherine Johnson                       Mathematician        1918   \n",
       "3          Vera Rubin                          Astronomer        1928   \n",
       "4         Gladys West                       Mathematician        1930   \n",
       "5  Flossie Wong-Staal  Virologist and Molecular Biologist        1947   \n",
       "6     Jennifer Doudna                          Biochemist        1964   \n",
       "\n",
       "   death_year                                          known_for  \n",
       "0      1984.0            hybrid species, biodiversity protection  \n",
       "1      1997.0  confim and refine theory of radioactive beta d...  \n",
       "2      2020.0  calculations of orbital mechanics critical to ...  \n",
       "3      2016.0                           existence of dark matter  \n",
       "4         NaN  mathematical modeling of the shape of the Eart...  \n",
       "5         NaN  first scientist to clone HIV and create a map ...  \n",
       "6         NaN  one of the primary developers of CRISPR, a gro...  "
      ]
     },
     "execution_count": 33,
     "metadata": {},
     "output_type": "execute_result"
    }
   ],
   "source": [
    "# Your code here\n",
    "df = pd.merge(df,DF_works,on='name',how='inner')\n",
    "df"
   ]
  },
  {
   "cell_type": "markdown",
   "id": "e2a3bd38-8875-4133-9fb5-2080542349b6",
   "metadata": {},
   "source": [
    "## Case study - Grocery Sales\n",
    "\n",
    "Below you will load some data about grocery sales and see how joining or merging data can help us answer questions."
   ]
  },
  {
   "cell_type": "code",
   "execution_count": 34,
   "id": "e73afe67-db9b-49da-b8db-fe0e8d7b4bde",
   "metadata": {},
   "outputs": [
    {
     "data": {
      "text/html": [
       "<table id=\"itables_5d27dbcc_64a4_4feb_afe6_ef06ca3b0cd5\" class=\"display nowrap\" data-quarto-disable-processing=\"true\" style=\"table-layout:auto;width:auto;margin:auto;caption-side:bottom\">\n",
       "<thead>\n",
       "    <tr style=\"text-align: right;\">\n",
       "      \n",
       "      <th>customer_id</th>\n",
       "      <th>item</th>\n",
       "    </tr>\n",
       "  </thead><tbody><tr>\n",
       "<td style=\"vertical-align:middle; text-align:left\">\n",
       "<div style=\"float:left; margin-right: 10px;\">\n",
       "<a href=https://mwouts.github.io/itables/><svg class=\"main-svg\" xmlns=\"http://www.w3.org/2000/svg\" xmlns:xlink=\"http://www.w3.org/1999/xlink\"\n",
       "width=\"64\" viewBox=\"0 0 500 400\" style=\"font-family: 'Droid Sans', sans-serif;\">\n",
       "    <g style=\"fill:#d9d7fc\">\n",
       "        <path d=\"M100,400H500V357H100Z\" />\n",
       "        <path d=\"M100,300H400V257H100Z\" />\n",
       "        <path d=\"M0,200H400V157H0Z\" />\n",
       "        <path d=\"M100,100H500V57H100Z\" />\n",
       "        <path d=\"M100,350H500V307H100Z\" />\n",
       "        <path d=\"M100,250H400V207H100Z\" />\n",
       "        <path d=\"M0,150H400V107H0Z\" />\n",
       "        <path d=\"M100,50H500V7H100Z\" />\n",
       "    </g>\n",
       "    <g style=\"fill:#1a1366;stroke:#1a1366;\">\n",
       "   <rect x=\"100\" y=\"7\" width=\"400\" height=\"43\">\n",
       "    <animate\n",
       "      attributeName=\"width\"\n",
       "      values=\"0;400;0\"\n",
       "      dur=\"5s\"\n",
       "      repeatCount=\"indefinite\" />\n",
       "      <animate\n",
       "      attributeName=\"x\"\n",
       "      values=\"100;100;500\"\n",
       "      dur=\"5s\"\n",
       "      repeatCount=\"indefinite\" />\n",
       "  </rect>\n",
       "        <rect x=\"0\" y=\"107\" width=\"400\" height=\"43\">\n",
       "    <animate\n",
       "      attributeName=\"width\"\n",
       "      values=\"0;400;0\"\n",
       "      dur=\"3.5s\"\n",
       "      repeatCount=\"indefinite\" />\n",
       "    <animate\n",
       "      attributeName=\"x\"\n",
       "      values=\"0;0;400\"\n",
       "      dur=\"3.5s\"\n",
       "      repeatCount=\"indefinite\" />\n",
       "  </rect>\n",
       "        <rect x=\"100\" y=\"207\" width=\"300\" height=\"43\">\n",
       "    <animate\n",
       "      attributeName=\"width\"\n",
       "      values=\"0;300;0\"\n",
       "      dur=\"3s\"\n",
       "      repeatCount=\"indefinite\" />\n",
       "    <animate\n",
       "      attributeName=\"x\"\n",
       "      values=\"100;100;400\"\n",
       "      dur=\"3s\"\n",
       "      repeatCount=\"indefinite\" />\n",
       "  </rect>\n",
       "        <rect x=\"100\" y=\"307\" width=\"400\" height=\"43\">\n",
       "    <animate\n",
       "      attributeName=\"width\"\n",
       "      values=\"0;400;0\"\n",
       "      dur=\"4s\"\n",
       "      repeatCount=\"indefinite\" />\n",
       "      <animate\n",
       "      attributeName=\"x\"\n",
       "      values=\"100;100;500\"\n",
       "      dur=\"4s\"\n",
       "      repeatCount=\"indefinite\" />\n",
       "  </rect>\n",
       "        <g style=\"fill:transparent;stroke-width:8; stroke-linejoin:round\" rx=\"5\">\n",
       "            <g transform=\"translate(45 50) rotate(-45)\">\n",
       "                <circle r=\"33\" cx=\"0\" cy=\"0\" />\n",
       "                <rect x=\"-8\" y=\"32\" width=\"16\" height=\"30\" />\n",
       "            </g>\n",
       "\n",
       "            <g transform=\"translate(450 152)\">\n",
       "                <polyline points=\"-15,-20 -35,-20 -35,40 25,40 25,20\" />\n",
       "                <rect x=\"-15\" y=\"-40\" width=\"60\" height=\"60\" />\n",
       "            </g>\n",
       "\n",
       "            <g transform=\"translate(50 352)\">\n",
       "                <polygon points=\"-35,-5 0,-40 35,-5\" />\n",
       "                <polygon points=\"-35,10 0,45 35,10\" />\n",
       "            </g>\n",
       "\n",
       "            <g transform=\"translate(75 250)\">\n",
       "                <polyline points=\"-30,30 -60,0 -30,-30\" />\n",
       "                <polyline points=\"0,30 -30,0 0,-30\" />\n",
       "            </g>\n",
       "\n",
       "            <g transform=\"translate(425 250) rotate(180)\">\n",
       "                <polyline points=\"-30,30 -60,0 -30,-30\" />\n",
       "                <polyline points=\"0,30 -30,0 0,-30\" />\n",
       "            </g>\n",
       "        </g>\n",
       "    </g>\n",
       "</svg>\n",
       "</a>\n",
       "</div>\n",
       "<div>\n",
       "Loading ITables v2.1.4 from the internet...\n",
       "(need <a href=https://mwouts.github.io/itables/troubleshooting.html>help</a>?)</td>\n",
       "</div>\n",
       "</tr></tbody>\n",
       "\n",
       "</table>\n",
       "<link href=\"https://www.unpkg.com/dt_for_itables@2.0.11/dt_bundle.css\" rel=\"stylesheet\">\n",
       "<script type=\"module\">\n",
       "    import {DataTable, jQuery as $} from 'https://www.unpkg.com/dt_for_itables@2.0.11/dt_bundle.js';\n",
       "\n",
       "    document.querySelectorAll(\"#itables_5d27dbcc_64a4_4feb_afe6_ef06ca3b0cd5:not(.dataTable)\").forEach(table => {\n",
       "        // Define the table data\n",
       "        const data = [[1, \"bread\"], [1, \"milk\"], [1, \"banana\"], [2, \"milk\"], [2, \"toilet paper\"]];\n",
       "\n",
       "        // Define the dt_args\n",
       "        let dt_args = {\"layout\": {\"topStart\": null, \"topEnd\": null, \"bottomStart\": null, \"bottomEnd\": null}, \"order\": []};\n",
       "        dt_args[\"data\"] = data;\n",
       "\n",
       "        \n",
       "        new DataTable(table, dt_args);\n",
       "    });\n",
       "</script>\n"
      ],
      "text/plain": [
       "<IPython.core.display.HTML object>"
      ]
     },
     "metadata": {},
     "output_type": "display_data"
    },
    {
     "data": {
      "text/html": [
       "<table id=\"itables_e4c377a4_0c57_4a03_bf32_bc2240664b91\" class=\"display nowrap\" data-quarto-disable-processing=\"true\" style=\"table-layout:auto;width:auto;margin:auto;caption-side:bottom\">\n",
       "<thead>\n",
       "    <tr style=\"text-align: right;\">\n",
       "      \n",
       "      <th>item</th>\n",
       "      <th>price</th>\n",
       "    </tr>\n",
       "  </thead><tbody><tr>\n",
       "<td style=\"vertical-align:middle; text-align:left\">\n",
       "<div style=\"float:left; margin-right: 10px;\">\n",
       "<a href=https://mwouts.github.io/itables/><svg class=\"main-svg\" xmlns=\"http://www.w3.org/2000/svg\" xmlns:xlink=\"http://www.w3.org/1999/xlink\"\n",
       "width=\"64\" viewBox=\"0 0 500 400\" style=\"font-family: 'Droid Sans', sans-serif;\">\n",
       "    <g style=\"fill:#d9d7fc\">\n",
       "        <path d=\"M100,400H500V357H100Z\" />\n",
       "        <path d=\"M100,300H400V257H100Z\" />\n",
       "        <path d=\"M0,200H400V157H0Z\" />\n",
       "        <path d=\"M100,100H500V57H100Z\" />\n",
       "        <path d=\"M100,350H500V307H100Z\" />\n",
       "        <path d=\"M100,250H400V207H100Z\" />\n",
       "        <path d=\"M0,150H400V107H0Z\" />\n",
       "        <path d=\"M100,50H500V7H100Z\" />\n",
       "    </g>\n",
       "    <g style=\"fill:#1a1366;stroke:#1a1366;\">\n",
       "   <rect x=\"100\" y=\"7\" width=\"400\" height=\"43\">\n",
       "    <animate\n",
       "      attributeName=\"width\"\n",
       "      values=\"0;400;0\"\n",
       "      dur=\"5s\"\n",
       "      repeatCount=\"indefinite\" />\n",
       "      <animate\n",
       "      attributeName=\"x\"\n",
       "      values=\"100;100;500\"\n",
       "      dur=\"5s\"\n",
       "      repeatCount=\"indefinite\" />\n",
       "  </rect>\n",
       "        <rect x=\"0\" y=\"107\" width=\"400\" height=\"43\">\n",
       "    <animate\n",
       "      attributeName=\"width\"\n",
       "      values=\"0;400;0\"\n",
       "      dur=\"3.5s\"\n",
       "      repeatCount=\"indefinite\" />\n",
       "    <animate\n",
       "      attributeName=\"x\"\n",
       "      values=\"0;0;400\"\n",
       "      dur=\"3.5s\"\n",
       "      repeatCount=\"indefinite\" />\n",
       "  </rect>\n",
       "        <rect x=\"100\" y=\"207\" width=\"300\" height=\"43\">\n",
       "    <animate\n",
       "      attributeName=\"width\"\n",
       "      values=\"0;300;0\"\n",
       "      dur=\"3s\"\n",
       "      repeatCount=\"indefinite\" />\n",
       "    <animate\n",
       "      attributeName=\"x\"\n",
       "      values=\"100;100;400\"\n",
       "      dur=\"3s\"\n",
       "      repeatCount=\"indefinite\" />\n",
       "  </rect>\n",
       "        <rect x=\"100\" y=\"307\" width=\"400\" height=\"43\">\n",
       "    <animate\n",
       "      attributeName=\"width\"\n",
       "      values=\"0;400;0\"\n",
       "      dur=\"4s\"\n",
       "      repeatCount=\"indefinite\" />\n",
       "      <animate\n",
       "      attributeName=\"x\"\n",
       "      values=\"100;100;500\"\n",
       "      dur=\"4s\"\n",
       "      repeatCount=\"indefinite\" />\n",
       "  </rect>\n",
       "        <g style=\"fill:transparent;stroke-width:8; stroke-linejoin:round\" rx=\"5\">\n",
       "            <g transform=\"translate(45 50) rotate(-45)\">\n",
       "                <circle r=\"33\" cx=\"0\" cy=\"0\" />\n",
       "                <rect x=\"-8\" y=\"32\" width=\"16\" height=\"30\" />\n",
       "            </g>\n",
       "\n",
       "            <g transform=\"translate(450 152)\">\n",
       "                <polyline points=\"-15,-20 -35,-20 -35,40 25,40 25,20\" />\n",
       "                <rect x=\"-15\" y=\"-40\" width=\"60\" height=\"60\" />\n",
       "            </g>\n",
       "\n",
       "            <g transform=\"translate(50 352)\">\n",
       "                <polygon points=\"-35,-5 0,-40 35,-5\" />\n",
       "                <polygon points=\"-35,10 0,45 35,10\" />\n",
       "            </g>\n",
       "\n",
       "            <g transform=\"translate(75 250)\">\n",
       "                <polyline points=\"-30,30 -60,0 -30,-30\" />\n",
       "                <polyline points=\"0,30 -30,0 0,-30\" />\n",
       "            </g>\n",
       "\n",
       "            <g transform=\"translate(425 250) rotate(180)\">\n",
       "                <polyline points=\"-30,30 -60,0 -30,-30\" />\n",
       "                <polyline points=\"0,30 -30,0 0,-30\" />\n",
       "            </g>\n",
       "        </g>\n",
       "    </g>\n",
       "</svg>\n",
       "</a>\n",
       "</div>\n",
       "<div>\n",
       "Loading ITables v2.1.4 from the internet...\n",
       "(need <a href=https://mwouts.github.io/itables/troubleshooting.html>help</a>?)</td>\n",
       "</div>\n",
       "</tr></tbody>\n",
       "\n",
       "</table>\n",
       "<link href=\"https://www.unpkg.com/dt_for_itables@2.0.11/dt_bundle.css\" rel=\"stylesheet\">\n",
       "<script type=\"module\">\n",
       "    import {DataTable, jQuery as $} from 'https://www.unpkg.com/dt_for_itables@2.0.11/dt_bundle.js';\n",
       "\n",
       "    document.querySelectorAll(\"#itables_e4c377a4_0c57_4a03_bf32_bc2240664b91:not(.dataTable)\").forEach(table => {\n",
       "        // Define the table data\n",
       "        const data = [[\"avocado\", 0.5], [\"banana\", 0.15], [\"bread\", 1.0], [\"milk\", 0.8], [\"toilet paper\", 3.0]];\n",
       "\n",
       "        // Define the dt_args\n",
       "        let dt_args = {\"layout\": {\"topStart\": null, \"topEnd\": null, \"bottomStart\": null, \"bottomEnd\": null}, \"order\": []};\n",
       "        dt_args[\"data\"] = data;\n",
       "\n",
       "        \n",
       "        new DataTable(table, dt_args);\n",
       "    });\n",
       "</script>\n"
      ],
      "text/plain": [
       "<IPython.core.display.HTML object>"
      ]
     },
     "metadata": {},
     "output_type": "display_data"
    }
   ],
   "source": [
    "file1 = 'https://joannabieri.com/introdatascience/data/purchases.csv'\n",
    "DF_purchases = pd.read_csv(file1)\n",
    "file2 = 'https://joannabieri.com/introdatascience/data/prices.csv'\n",
    "DF_prices = pd.read_csv(file2)\n",
    "show(DF_purchases)\n",
    "show(DF_prices)"
   ]
  },
  {
   "cell_type": "markdown",
   "id": "59cc40ab-4b37-4c68-8da7-fdb713a184e5",
   "metadata": {},
   "source": [
    "## Calculate the total revenue\n",
    "\n",
    "**Q8** Given the data above find the total revenue.\n",
    "\n",
    "We will have to join the data frames so that we can see the price of what was sold. So first we look for a common column. In this case both data frames have **item** as a column.\n",
    "\n",
    "Now, think about how to calculate revenue... we need to add up the total money we made, so we need to know the price of each thing sold."
   ]
  },
  {
   "cell_type": "markdown",
   "id": "e437831b-9e27-40c1-b7e1-893785439543",
   "metadata": {},
   "source": [
    "**See the lecture notes if you need heelp figuring this out!**\n",
    "\n",
    "**Q9** Calculate the revenue per customer? Hint - group by the customer id and then apply the sum()."
   ]
  },
  {
   "cell_type": "code",
   "execution_count": 94,
   "id": "0863ba4f-65d0-4465-bd70-4557c581a15d",
   "metadata": {},
   "outputs": [
    {
     "data": {
      "text/html": [
       "<div>\n",
       "<style scoped>\n",
       "    .dataframe tbody tr th:only-of-type {\n",
       "        vertical-align: middle;\n",
       "    }\n",
       "\n",
       "    .dataframe tbody tr th {\n",
       "        vertical-align: top;\n",
       "    }\n",
       "\n",
       "    .dataframe thead th {\n",
       "        text-align: right;\n",
       "    }\n",
       "</style>\n",
       "<table border=\"1\" class=\"dataframe\">\n",
       "  <thead>\n",
       "    <tr style=\"text-align: right;\">\n",
       "      <th></th>\n",
       "      <th>revenue</th>\n",
       "    </tr>\n",
       "    <tr>\n",
       "      <th>customer_id</th>\n",
       "      <th></th>\n",
       "    </tr>\n",
       "  </thead>\n",
       "  <tbody>\n",
       "    <tr>\n",
       "      <th>1</th>\n",
       "      <td>1.95</td>\n",
       "    </tr>\n",
       "    <tr>\n",
       "      <th>2</th>\n",
       "      <td>3.80</td>\n",
       "    </tr>\n",
       "  </tbody>\n",
       "</table>\n",
       "</div>"
      ],
      "text/plain": [
       "             revenue\n",
       "customer_id         \n",
       "1               1.95\n",
       "2               3.80"
      ]
     },
     "execution_count": 94,
     "metadata": {},
     "output_type": "execute_result"
    }
   ],
   "source": [
    "# Your code here\n",
    "df_grocery = pd.merge(DF_purchases, DF_prices, on = 'item', how = 'inner')\n",
    "df_grocery.set_index('customer_id')\n",
    "\n",
    "df_revenue = df_grocery[['customer_id','price']].groupby('customer_id').sum()\n",
    "df_revenue.rename(columns = {'price':'revenue'}, inplace = True)\n",
    "df_revenue"
   ]
  },
  {
   "cell_type": "markdown",
   "id": "0b3b6bfe-df90-4521-9d96-404916911e2b",
   "metadata": {},
   "source": [
    "# Practice Exam - EDA - College Majors\n",
    "\n",
    "Your solutions should include code written to answer the questions AND words describing the results. For each problem:\n",
    "\n",
    "1. Write code to get the answers. It is okay to copy and paste from our lecture notes or your homework assignments.\n",
    "2. Describe what the code output is telling you.\n",
    "3. Explain any interesting aspects of your results.\n",
    "\n",
    "------------------------\n",
    "-------------------------"
   ]
  },
  {
   "cell_type": "markdown",
   "id": "1c634098-c93e-41c2-bc4a-523f4c27a333",
   "metadata": {},
   "source": [
    "The first step in the process of turning information into knowledge process is to summarize and describe the raw information - the data.\n",
    "In this assignment we explore data on college majors and earnings, specifically the data begin the FiveThirtyEight story [\"The Economic Guide To Picking A College Major\"](https://fivethirtyeight.com/features/the-economic-guide-to-picking-a-college-major/).\n",
    "\n",
    "These data originally come from the American Community Survey (ACS) 2010-2012 Public Use Microdata Series.\n",
    "While this is outside the scope of this assignment, if you are curious about how raw data from the ACS were cleaned and prepared, see [the code](https://github.com/fivethirtyeight/data/blob/master/college-majors/college-majors-rscript.R) FiveThirtyEight authors used.\n",
    "\n",
    "We should also note that there are many considerations that go into picking a major.\n",
    "Earnings potential and employment prospects are two of them, and they are important, but they don't tell the whole story.\n",
    "Keep this in mind as you analyze the data."
   ]
  },
  {
   "cell_type": "code",
   "execution_count": 46,
   "id": "20e25679-7c2a-4244-be1b-dc01e35f8126",
   "metadata": {},
   "outputs": [],
   "source": [
    "file_location = 'https://joannabieri.com/introdatascience/data/recent-grads.csv'\n",
    "df_raw = pd.read_csv(file_location)"
   ]
  },
  {
   "cell_type": "code",
   "execution_count": 47,
   "id": "763b02f4-00ce-4b9a-ac1d-792c794109f1",
   "metadata": {},
   "outputs": [
    {
     "data": {
      "text/html": [
       "<div>\n",
       "<style scoped>\n",
       "    .dataframe tbody tr th:only-of-type {\n",
       "        vertical-align: middle;\n",
       "    }\n",
       "\n",
       "    .dataframe tbody tr th {\n",
       "        vertical-align: top;\n",
       "    }\n",
       "\n",
       "    .dataframe thead th {\n",
       "        text-align: right;\n",
       "    }\n",
       "</style>\n",
       "<table border=\"1\" class=\"dataframe\">\n",
       "  <thead>\n",
       "    <tr style=\"text-align: right;\">\n",
       "      <th></th>\n",
       "      <th>Rank</th>\n",
       "      <th>Major_code</th>\n",
       "      <th>Major</th>\n",
       "      <th>Total</th>\n",
       "      <th>Men</th>\n",
       "      <th>Women</th>\n",
       "      <th>Major_category</th>\n",
       "      <th>ShareWomen</th>\n",
       "      <th>Sample_size</th>\n",
       "      <th>Employed</th>\n",
       "      <th>...</th>\n",
       "      <th>Part_time</th>\n",
       "      <th>Full_time_year_round</th>\n",
       "      <th>Unemployed</th>\n",
       "      <th>Unemployment_rate</th>\n",
       "      <th>Median</th>\n",
       "      <th>P25th</th>\n",
       "      <th>P75th</th>\n",
       "      <th>College_jobs</th>\n",
       "      <th>Non_college_jobs</th>\n",
       "      <th>Low_wage_jobs</th>\n",
       "    </tr>\n",
       "  </thead>\n",
       "  <tbody>\n",
       "    <tr>\n",
       "      <th>0</th>\n",
       "      <td>1</td>\n",
       "      <td>2419</td>\n",
       "      <td>PETROLEUM ENGINEERING</td>\n",
       "      <td>2339.0</td>\n",
       "      <td>2057.0</td>\n",
       "      <td>282.0</td>\n",
       "      <td>Engineering</td>\n",
       "      <td>0.120564</td>\n",
       "      <td>36</td>\n",
       "      <td>1976</td>\n",
       "      <td>...</td>\n",
       "      <td>270</td>\n",
       "      <td>1207</td>\n",
       "      <td>37</td>\n",
       "      <td>0.018381</td>\n",
       "      <td>110000</td>\n",
       "      <td>95000</td>\n",
       "      <td>125000</td>\n",
       "      <td>1534</td>\n",
       "      <td>364</td>\n",
       "      <td>193</td>\n",
       "    </tr>\n",
       "    <tr>\n",
       "      <th>1</th>\n",
       "      <td>2</td>\n",
       "      <td>2416</td>\n",
       "      <td>MINING AND MINERAL ENGINEERING</td>\n",
       "      <td>756.0</td>\n",
       "      <td>679.0</td>\n",
       "      <td>77.0</td>\n",
       "      <td>Engineering</td>\n",
       "      <td>0.101852</td>\n",
       "      <td>7</td>\n",
       "      <td>640</td>\n",
       "      <td>...</td>\n",
       "      <td>170</td>\n",
       "      <td>388</td>\n",
       "      <td>85</td>\n",
       "      <td>0.117241</td>\n",
       "      <td>75000</td>\n",
       "      <td>55000</td>\n",
       "      <td>90000</td>\n",
       "      <td>350</td>\n",
       "      <td>257</td>\n",
       "      <td>50</td>\n",
       "    </tr>\n",
       "    <tr>\n",
       "      <th>2</th>\n",
       "      <td>3</td>\n",
       "      <td>2415</td>\n",
       "      <td>METALLURGICAL ENGINEERING</td>\n",
       "      <td>856.0</td>\n",
       "      <td>725.0</td>\n",
       "      <td>131.0</td>\n",
       "      <td>Engineering</td>\n",
       "      <td>0.153037</td>\n",
       "      <td>3</td>\n",
       "      <td>648</td>\n",
       "      <td>...</td>\n",
       "      <td>133</td>\n",
       "      <td>340</td>\n",
       "      <td>16</td>\n",
       "      <td>0.024096</td>\n",
       "      <td>73000</td>\n",
       "      <td>50000</td>\n",
       "      <td>105000</td>\n",
       "      <td>456</td>\n",
       "      <td>176</td>\n",
       "      <td>0</td>\n",
       "    </tr>\n",
       "    <tr>\n",
       "      <th>3</th>\n",
       "      <td>4</td>\n",
       "      <td>2417</td>\n",
       "      <td>NAVAL ARCHITECTURE AND MARINE ENGINEERING</td>\n",
       "      <td>1258.0</td>\n",
       "      <td>1123.0</td>\n",
       "      <td>135.0</td>\n",
       "      <td>Engineering</td>\n",
       "      <td>0.107313</td>\n",
       "      <td>16</td>\n",
       "      <td>758</td>\n",
       "      <td>...</td>\n",
       "      <td>150</td>\n",
       "      <td>692</td>\n",
       "      <td>40</td>\n",
       "      <td>0.050125</td>\n",
       "      <td>70000</td>\n",
       "      <td>43000</td>\n",
       "      <td>80000</td>\n",
       "      <td>529</td>\n",
       "      <td>102</td>\n",
       "      <td>0</td>\n",
       "    </tr>\n",
       "    <tr>\n",
       "      <th>4</th>\n",
       "      <td>5</td>\n",
       "      <td>2405</td>\n",
       "      <td>CHEMICAL ENGINEERING</td>\n",
       "      <td>32260.0</td>\n",
       "      <td>21239.0</td>\n",
       "      <td>11021.0</td>\n",
       "      <td>Engineering</td>\n",
       "      <td>0.341631</td>\n",
       "      <td>289</td>\n",
       "      <td>25694</td>\n",
       "      <td>...</td>\n",
       "      <td>5180</td>\n",
       "      <td>16697</td>\n",
       "      <td>1672</td>\n",
       "      <td>0.061098</td>\n",
       "      <td>65000</td>\n",
       "      <td>50000</td>\n",
       "      <td>75000</td>\n",
       "      <td>18314</td>\n",
       "      <td>4440</td>\n",
       "      <td>972</td>\n",
       "    </tr>\n",
       "  </tbody>\n",
       "</table>\n",
       "<p>5 rows × 21 columns</p>\n",
       "</div>"
      ],
      "text/plain": [
       "   Rank  Major_code                                      Major    Total  \\\n",
       "0     1        2419                      PETROLEUM ENGINEERING   2339.0   \n",
       "1     2        2416             MINING AND MINERAL ENGINEERING    756.0   \n",
       "2     3        2415                  METALLURGICAL ENGINEERING    856.0   \n",
       "3     4        2417  NAVAL ARCHITECTURE AND MARINE ENGINEERING   1258.0   \n",
       "4     5        2405                       CHEMICAL ENGINEERING  32260.0   \n",
       "\n",
       "       Men    Women Major_category  ShareWomen  Sample_size  Employed  ...  \\\n",
       "0   2057.0    282.0    Engineering    0.120564           36      1976  ...   \n",
       "1    679.0     77.0    Engineering    0.101852            7       640  ...   \n",
       "2    725.0    131.0    Engineering    0.153037            3       648  ...   \n",
       "3   1123.0    135.0    Engineering    0.107313           16       758  ...   \n",
       "4  21239.0  11021.0    Engineering    0.341631          289     25694  ...   \n",
       "\n",
       "   Part_time  Full_time_year_round  Unemployed  Unemployment_rate  Median  \\\n",
       "0        270                  1207          37           0.018381  110000   \n",
       "1        170                   388          85           0.117241   75000   \n",
       "2        133                   340          16           0.024096   73000   \n",
       "3        150                   692          40           0.050125   70000   \n",
       "4       5180                 16697        1672           0.061098   65000   \n",
       "\n",
       "   P25th   P75th  College_jobs  Non_college_jobs  Low_wage_jobs  \n",
       "0  95000  125000          1534               364            193  \n",
       "1  55000   90000           350               257             50  \n",
       "2  50000  105000           456               176              0  \n",
       "3  43000   80000           529               102              0  \n",
       "4  50000   75000         18314              4440            972  \n",
       "\n",
       "[5 rows x 21 columns]"
      ]
     },
     "execution_count": 47,
     "metadata": {},
     "output_type": "execute_result"
    }
   ],
   "source": [
    "df_raw.head()"
   ]
  },
  {
   "cell_type": "markdown",
   "id": "d2c98753-1b02-4889-81b3-d97627d70824",
   "metadata": {},
   "source": [
    "### 1. Describe the data that you see here.\n",
    "\n",
    "* How many variables?\n",
    "* How man observations?\n",
    "* Are the variables categorical or numerical?\n",
    "* Are there any variables that you don't know what they mean? If so [CLICK HERE - to see the Git Repo for the data where the variables are defined](https://github.com/fivethirtyeight/data/tree/master/college-majors)\n"
   ]
  },
  {
   "cell_type": "code",
   "execution_count": 49,
   "id": "0011fbe4-e81b-446f-8277-a249f36c3880",
   "metadata": {},
   "outputs": [
    {
     "name": "stdout",
     "output_type": "stream",
     "text": [
      "There are 21 variables.\n"
     ]
    }
   ],
   "source": [
    "print('There are',df_raw.shape[1],'variables.')"
   ]
  },
  {
   "cell_type": "code",
   "execution_count": 50,
   "id": "b09fe27b-bcac-46c2-af97-6ca873f5e81d",
   "metadata": {},
   "outputs": [
    {
     "name": "stdout",
     "output_type": "stream",
     "text": [
      "There are 173 observations.\n"
     ]
    }
   ],
   "source": [
    "print('There are',df_raw.shape[0],'observations.')"
   ]
  },
  {
   "cell_type": "code",
   "execution_count": 56,
   "id": "0b9165e9-a915-4cd4-898f-06d81ccf22fa",
   "metadata": {},
   "outputs": [
    {
     "name": "stdout",
     "output_type": "stream",
     "text": [
      "<class 'pandas.core.frame.DataFrame'>\n",
      "RangeIndex: 173 entries, 0 to 172\n",
      "Data columns (total 21 columns):\n",
      " #   Column                Non-Null Count  Dtype  \n",
      "---  ------                --------------  -----  \n",
      " 0   Rank                  173 non-null    int64  \n",
      " 1   Major_code            173 non-null    int64  \n",
      " 2   Major                 173 non-null    object \n",
      " 3   Total                 172 non-null    float64\n",
      " 4   Men                   172 non-null    float64\n",
      " 5   Women                 172 non-null    float64\n",
      " 6   Major_category        173 non-null    object \n",
      " 7   ShareWomen            172 non-null    float64\n",
      " 8   Sample_size           173 non-null    int64  \n",
      " 9   Employed              173 non-null    int64  \n",
      " 10  Full_time             173 non-null    int64  \n",
      " 11  Part_time             173 non-null    int64  \n",
      " 12  Full_time_year_round  173 non-null    int64  \n",
      " 13  Unemployed            173 non-null    int64  \n",
      " 14  Unemployment_rate     173 non-null    float64\n",
      " 15  Median                173 non-null    int64  \n",
      " 16  P25th                 173 non-null    int64  \n",
      " 17  P75th                 173 non-null    int64  \n",
      " 18  College_jobs          173 non-null    int64  \n",
      " 19  Non_college_jobs      173 non-null    int64  \n",
      " 20  Low_wage_jobs         173 non-null    int64  \n",
      "dtypes: float64(5), int64(14), object(2)\n",
      "memory usage: 28.5+ KB\n"
     ]
    }
   ],
   "source": [
    "df_raw.info()"
   ]
  },
  {
   "cell_type": "markdown",
   "id": "13005d11-f03f-40dd-a53c-9ff76f5dbfe1",
   "metadata": {},
   "source": [
    "**(Click Here to Explain your Results)**"
   ]
  },
  {
   "cell_type": "markdown",
   "id": "e6081090-f75b-43f2-aaee-e9e90afbb058",
   "metadata": {},
   "source": [
    "### 2. Answer some questions about the data\n",
    "\n",
    "* Which major has the lowest unemployment rate? Show a data frame that answers this question, but only show columns that are useful to the answer.\n",
    "* Which major has the highest percentage of women? Show a data frame that answers this question, but only show columns that are useful to the answer.\n",
    "* How do the distributions of median income compare across major categories?\n",
    "    * First get a value count on what major categories are in the data. What categories are most or least represented?\n",
    "    * Do some summary statistics using the .group_by() command to see the statistics for each major category.\n",
    "    * Make a histogram that explores median income for each of the major categories (facet_col). How did you choose your number of bins?\n",
    "    * Why do we often choose the median, rather than the mean, to describe the typical income of a group of people? Look this up online if you don't know the answer!\n",
    "    * Answer the question: Which major category has the highest typical (you'll need to decide what this means) median income?"
   ]
  },
  {
   "cell_type": "markdown",
   "id": "9c2dcaf7-8290-4a70-af0a-36f07e71eadd",
   "metadata": {},
   "source": [
    "#### Which major has the lowest unemployment rate? Show a data frame that answers this question, but only show columns that are useful to the answer."
   ]
  },
  {
   "cell_type": "code",
   "execution_count": 110,
   "id": "8b12bd53-36e0-47b4-9ef5-3cbf6fc065a4",
   "metadata": {},
   "outputs": [
    {
     "data": {
      "text/html": [
       "<div>\n",
       "<style scoped>\n",
       "    .dataframe tbody tr th:only-of-type {\n",
       "        vertical-align: middle;\n",
       "    }\n",
       "\n",
       "    .dataframe tbody tr th {\n",
       "        vertical-align: top;\n",
       "    }\n",
       "\n",
       "    .dataframe thead th {\n",
       "        text-align: right;\n",
       "    }\n",
       "</style>\n",
       "<table border=\"1\" class=\"dataframe\">\n",
       "  <thead>\n",
       "    <tr style=\"text-align: right;\">\n",
       "      <th></th>\n",
       "      <th>Major</th>\n",
       "      <th>Unemployment_rate</th>\n",
       "    </tr>\n",
       "  </thead>\n",
       "  <tbody>\n",
       "    <tr>\n",
       "      <th>0</th>\n",
       "      <td>EDUCATIONAL ADMINISTRATION AND SUPERVISION</td>\n",
       "      <td>0.0</td>\n",
       "    </tr>\n",
       "  </tbody>\n",
       "</table>\n",
       "</div>"
      ],
      "text/plain": [
       "                                        Major  Unemployment_rate\n",
       "0  EDUCATIONAL ADMINISTRATION AND SUPERVISION                0.0"
      ]
     },
     "execution_count": 110,
     "metadata": {},
     "output_type": "execute_result"
    }
   ],
   "source": [
    "df_unemployment_rate_ranked = df_raw[['Major','Unemployment_rate']].sort_values('Unemployment_rate', ascending = True).head(1).reset_index()\n",
    "df_unemployment_rate_ranked.drop('index', axis = 1, inplace = True)\n",
    "df_unemployment_rate_ranked"
   ]
  },
  {
   "cell_type": "markdown",
   "id": "2d247133-a60e-4402-bade-0eaf42ceafb0",
   "metadata": {},
   "source": [
    "##### Results Explained:\n",
    "Before explaining the results, I do believe these to be false. It does not make sense that there would be no unemployment rate for a major. I believe these values are unknown and should be ignored. "
   ]
  },
  {
   "cell_type": "code",
   "execution_count": 82,
   "id": "a595e3c3-8b12-4917-905a-486a305b6baa",
   "metadata": {},
   "outputs": [
    {
     "data": {
      "text/html": [
       "<div>\n",
       "<style scoped>\n",
       "    .dataframe tbody tr th:only-of-type {\n",
       "        vertical-align: middle;\n",
       "    }\n",
       "\n",
       "    .dataframe tbody tr th {\n",
       "        vertical-align: top;\n",
       "    }\n",
       "\n",
       "    .dataframe thead th {\n",
       "        text-align: right;\n",
       "    }\n",
       "</style>\n",
       "<table border=\"1\" class=\"dataframe\">\n",
       "  <thead>\n",
       "    <tr style=\"text-align: right;\">\n",
       "      <th></th>\n",
       "      <th>Major</th>\n",
       "      <th>ShareWomen</th>\n",
       "    </tr>\n",
       "  </thead>\n",
       "  <tbody>\n",
       "    <tr>\n",
       "      <th>0</th>\n",
       "      <td>EARLY CHILDHOOD EDUCATION</td>\n",
       "      <td>0.968954</td>\n",
       "    </tr>\n",
       "    <tr>\n",
       "      <th>1</th>\n",
       "      <td>COMMUNICATION DISORDERS SCIENCES AND SERVICES</td>\n",
       "      <td>0.967998</td>\n",
       "    </tr>\n",
       "    <tr>\n",
       "      <th>2</th>\n",
       "      <td>MEDICAL ASSISTING SERVICES</td>\n",
       "      <td>0.927807</td>\n",
       "    </tr>\n",
       "    <tr>\n",
       "      <th>3</th>\n",
       "      <td>ELEMENTARY EDUCATION</td>\n",
       "      <td>0.923745</td>\n",
       "    </tr>\n",
       "    <tr>\n",
       "      <th>4</th>\n",
       "      <td>FAMILY AND CONSUMER SCIENCES</td>\n",
       "      <td>0.910933</td>\n",
       "    </tr>\n",
       "  </tbody>\n",
       "</table>\n",
       "</div>"
      ],
      "text/plain": [
       "                                           Major  ShareWomen\n",
       "0                      EARLY CHILDHOOD EDUCATION    0.968954\n",
       "1  COMMUNICATION DISORDERS SCIENCES AND SERVICES    0.967998\n",
       "2                     MEDICAL ASSISTING SERVICES    0.927807\n",
       "3                           ELEMENTARY EDUCATION    0.923745\n",
       "4                   FAMILY AND CONSUMER SCIENCES    0.910933"
      ]
     },
     "execution_count": 82,
     "metadata": {},
     "output_type": "execute_result"
    }
   ],
   "source": [
    "df_women_share_ranked = df_raw[['Major','ShareWomen']].sort_values('ShareWomen', ascending = False).head().reset_index()\n",
    "df_women_share_ranked.drop('index', axis = 1, inplace = True)\n",
    "df_women_share_ranked"
   ]
  },
  {
   "cell_type": "markdown",
   "id": "1fb190de-e84e-495f-8fbb-3ddaa809f999",
   "metadata": {},
   "source": [
    "##### Results Explained:\n",
    "The majors with the highest share are featured above."
   ]
  },
  {
   "cell_type": "code",
   "execution_count": 109,
   "id": "50cc0f10-95d9-4f8b-aaae-b9ad9a02b8e0",
   "metadata": {},
   "outputs": [
    {
     "data": {
      "text/html": [
       "<div>\n",
       "<style scoped>\n",
       "    .dataframe tbody tr th:only-of-type {\n",
       "        vertical-align: middle;\n",
       "    }\n",
       "\n",
       "    .dataframe tbody tr th {\n",
       "        vertical-align: top;\n",
       "    }\n",
       "\n",
       "    .dataframe thead th {\n",
       "        text-align: right;\n",
       "    }\n",
       "</style>\n",
       "<table border=\"1\" class=\"dataframe\">\n",
       "  <thead>\n",
       "    <tr style=\"text-align: right;\">\n",
       "      <th></th>\n",
       "      <th>Major Count</th>\n",
       "    </tr>\n",
       "    <tr>\n",
       "      <th>Major_category</th>\n",
       "      <th></th>\n",
       "    </tr>\n",
       "  </thead>\n",
       "  <tbody>\n",
       "    <tr>\n",
       "      <th>Engineering</th>\n",
       "      <td>29</td>\n",
       "    </tr>\n",
       "    <tr>\n",
       "      <th>Education</th>\n",
       "      <td>16</td>\n",
       "    </tr>\n",
       "    <tr>\n",
       "      <th>Humanities &amp; Liberal Arts</th>\n",
       "      <td>15</td>\n",
       "    </tr>\n",
       "    <tr>\n",
       "      <th>Biology &amp; Life Science</th>\n",
       "      <td>14</td>\n",
       "    </tr>\n",
       "    <tr>\n",
       "      <th>Business</th>\n",
       "      <td>13</td>\n",
       "    </tr>\n",
       "    <tr>\n",
       "      <th>Health</th>\n",
       "      <td>12</td>\n",
       "    </tr>\n",
       "    <tr>\n",
       "      <th>Computers &amp; Mathematics</th>\n",
       "      <td>11</td>\n",
       "    </tr>\n",
       "    <tr>\n",
       "      <th>Agriculture &amp; Natural Resources</th>\n",
       "      <td>10</td>\n",
       "    </tr>\n",
       "    <tr>\n",
       "      <th>Physical Sciences</th>\n",
       "      <td>10</td>\n",
       "    </tr>\n",
       "    <tr>\n",
       "      <th>Psychology &amp; Social Work</th>\n",
       "      <td>9</td>\n",
       "    </tr>\n",
       "    <tr>\n",
       "      <th>Social Science</th>\n",
       "      <td>9</td>\n",
       "    </tr>\n",
       "    <tr>\n",
       "      <th>Arts</th>\n",
       "      <td>8</td>\n",
       "    </tr>\n",
       "    <tr>\n",
       "      <th>Industrial Arts &amp; Consumer Services</th>\n",
       "      <td>7</td>\n",
       "    </tr>\n",
       "    <tr>\n",
       "      <th>Law &amp; Public Policy</th>\n",
       "      <td>5</td>\n",
       "    </tr>\n",
       "    <tr>\n",
       "      <th>Communications &amp; Journalism</th>\n",
       "      <td>4</td>\n",
       "    </tr>\n",
       "    <tr>\n",
       "      <th>Interdisciplinary</th>\n",
       "      <td>1</td>\n",
       "    </tr>\n",
       "  </tbody>\n",
       "</table>\n",
       "</div>"
      ],
      "text/plain": [
       "                                     Major Count\n",
       "Major_category                                  \n",
       "Engineering                                   29\n",
       "Education                                     16\n",
       "Humanities & Liberal Arts                     15\n",
       "Biology & Life Science                        14\n",
       "Business                                      13\n",
       "Health                                        12\n",
       "Computers & Mathematics                       11\n",
       "Agriculture & Natural Resources               10\n",
       "Physical Sciences                             10\n",
       "Psychology & Social Work                       9\n",
       "Social Science                                 9\n",
       "Arts                                           8\n",
       "Industrial Arts & Consumer Services            7\n",
       "Law & Public Policy                            5\n",
       "Communications & Journalism                    4\n",
       "Interdisciplinary                              1"
      ]
     },
     "execution_count": 109,
     "metadata": {},
     "output_type": "execute_result"
    }
   ],
   "source": [
    "df_raw_major_count = df_raw[['Major_category','Major']].groupby('Major_category').count().sort_values('Major', ascending = False)\n",
    "df_raw_major_count.rename(columns = {'Major':'Major Count'}, inplace = True)\n",
    "df_raw_major_count"
   ]
  },
  {
   "cell_type": "markdown",
   "id": "04306ea4-b398-411c-b91e-86a68d24a8d6",
   "metadata": {},
   "source": [
    "##### Results Explained:\n",
    "The most represented major category is engineering and the least is interdisciplinary. "
   ]
  },
  {
   "cell_type": "code",
   "execution_count": 124,
   "id": "6fd2a3e4-8e69-46cc-88c9-d281aab906e4",
   "metadata": {
    "scrolled": true
   },
   "outputs": [
    {
     "data": {
      "text/html": [
       "<div>\n",
       "<style scoped>\n",
       "    .dataframe tbody tr th:only-of-type {\n",
       "        vertical-align: middle;\n",
       "    }\n",
       "\n",
       "    .dataframe tbody tr th {\n",
       "        vertical-align: top;\n",
       "    }\n",
       "\n",
       "    .dataframe thead tr th {\n",
       "        text-align: left;\n",
       "    }\n",
       "\n",
       "    .dataframe thead tr:last-of-type th {\n",
       "        text-align: right;\n",
       "    }\n",
       "</style>\n",
       "<table border=\"1\" class=\"dataframe\">\n",
       "  <thead>\n",
       "    <tr>\n",
       "      <th></th>\n",
       "      <th colspan=\"8\" halign=\"left\">Rank</th>\n",
       "      <th colspan=\"2\" halign=\"left\">Major_code</th>\n",
       "      <th>...</th>\n",
       "      <th colspan=\"2\" halign=\"left\">Non_college_jobs</th>\n",
       "      <th colspan=\"8\" halign=\"left\">Low_wage_jobs</th>\n",
       "    </tr>\n",
       "    <tr>\n",
       "      <th></th>\n",
       "      <th>count</th>\n",
       "      <th>mean</th>\n",
       "      <th>std</th>\n",
       "      <th>min</th>\n",
       "      <th>25%</th>\n",
       "      <th>50%</th>\n",
       "      <th>75%</th>\n",
       "      <th>max</th>\n",
       "      <th>count</th>\n",
       "      <th>mean</th>\n",
       "      <th>...</th>\n",
       "      <th>75%</th>\n",
       "      <th>max</th>\n",
       "      <th>count</th>\n",
       "      <th>mean</th>\n",
       "      <th>std</th>\n",
       "      <th>min</th>\n",
       "      <th>25%</th>\n",
       "      <th>50%</th>\n",
       "      <th>75%</th>\n",
       "      <th>max</th>\n",
       "    </tr>\n",
       "    <tr>\n",
       "      <th>Major_category</th>\n",
       "      <th></th>\n",
       "      <th></th>\n",
       "      <th></th>\n",
       "      <th></th>\n",
       "      <th></th>\n",
       "      <th></th>\n",
       "      <th></th>\n",
       "      <th></th>\n",
       "      <th></th>\n",
       "      <th></th>\n",
       "      <th></th>\n",
       "      <th></th>\n",
       "      <th></th>\n",
       "      <th></th>\n",
       "      <th></th>\n",
       "      <th></th>\n",
       "      <th></th>\n",
       "      <th></th>\n",
       "      <th></th>\n",
       "      <th></th>\n",
       "      <th></th>\n",
       "    </tr>\n",
       "  </thead>\n",
       "  <tbody>\n",
       "    <tr>\n",
       "      <th>Agriculture &amp; Natural Resources</th>\n",
       "      <td>10.0</td>\n",
       "      <td>101.500000</td>\n",
       "      <td>45.132521</td>\n",
       "      <td>22.0</td>\n",
       "      <td>66.75</td>\n",
       "      <td>110.0</td>\n",
       "      <td>136.25</td>\n",
       "      <td>162.0</td>\n",
       "      <td>10.0</td>\n",
       "      <td>1152.500000</td>\n",
       "      <td>...</td>\n",
       "      <td>5535.25</td>\n",
       "      <td>9571.0</td>\n",
       "      <td>10.0</td>\n",
       "      <td>789.900000</td>\n",
       "      <td>720.841091</td>\n",
       "      <td>0.0</td>\n",
       "      <td>152.25</td>\n",
       "      <td>662.0</td>\n",
       "      <td>1329.25</td>\n",
       "      <td>2125.0</td>\n",
       "    </tr>\n",
       "    <tr>\n",
       "      <th>Arts</th>\n",
       "      <td>8.0</td>\n",
       "      <td>131.125000</td>\n",
       "      <td>45.091772</td>\n",
       "      <td>33.0</td>\n",
       "      <td>130.50</td>\n",
       "      <td>148.5</td>\n",
       "      <td>155.50</td>\n",
       "      <td>167.0</td>\n",
       "      <td>8.0</td>\n",
       "      <td>6015.125000</td>\n",
       "      <td>...</td>\n",
       "      <td>29770.75</td>\n",
       "      <td>38119.0</td>\n",
       "      <td>8.0</td>\n",
       "      <td>7514.500000</td>\n",
       "      <td>4988.230777</td>\n",
       "      <td>755.0</td>\n",
       "      <td>3399.50</td>\n",
       "      <td>7574.0</td>\n",
       "      <td>11271.00</td>\n",
       "      <td>14839.0</td>\n",
       "    </tr>\n",
       "    <tr>\n",
       "      <th>Biology &amp; Life Science</th>\n",
       "      <td>14.0</td>\n",
       "      <td>95.357143</td>\n",
       "      <td>33.726518</td>\n",
       "      <td>49.0</td>\n",
       "      <td>71.25</td>\n",
       "      <td>88.5</td>\n",
       "      <td>119.50</td>\n",
       "      <td>169.0</td>\n",
       "      <td>14.0</td>\n",
       "      <td>3475.857143</td>\n",
       "      <td>...</td>\n",
       "      <td>6210.25</td>\n",
       "      <td>81109.0</td>\n",
       "      <td>14.0</td>\n",
       "      <td>3053.000000</td>\n",
       "      <td>7349.937697</td>\n",
       "      <td>56.0</td>\n",
       "      <td>265.50</td>\n",
       "      <td>939.0</td>\n",
       "      <td>1989.25</td>\n",
       "      <td>28339.0</td>\n",
       "    </tr>\n",
       "    <tr>\n",
       "      <th>Business</th>\n",
       "      <td>13.0</td>\n",
       "      <td>55.846154</td>\n",
       "      <td>31.929209</td>\n",
       "      <td>7.0</td>\n",
       "      <td>36.00</td>\n",
       "      <td>58.0</td>\n",
       "      <td>77.00</td>\n",
       "      <td>128.0</td>\n",
       "      <td>13.0</td>\n",
       "      <td>6213.000000</td>\n",
       "      <td>...</td>\n",
       "      <td>48447.00</td>\n",
       "      <td>148395.0</td>\n",
       "      <td>13.0</td>\n",
       "      <td>9752.923077</td>\n",
       "      <td>11756.645798</td>\n",
       "      <td>259.0</td>\n",
       "      <td>1284.00</td>\n",
       "      <td>3046.0</td>\n",
       "      <td>10886.00</td>\n",
       "      <td>32395.0</td>\n",
       "    </tr>\n",
       "    <tr>\n",
       "      <th>Communications &amp; Journalism</th>\n",
       "      <td>4.0</td>\n",
       "      <td>104.000000</td>\n",
       "      <td>14.809907</td>\n",
       "      <td>94.0</td>\n",
       "      <td>96.25</td>\n",
       "      <td>98.0</td>\n",
       "      <td>105.75</td>\n",
       "      <td>126.0</td>\n",
       "      <td>4.0</td>\n",
       "      <td>1902.500000</td>\n",
       "      <td>...</td>\n",
       "      <td>44495.00</td>\n",
       "      <td>97964.0</td>\n",
       "      <td>4.0</td>\n",
       "      <td>12398.750000</td>\n",
       "      <td>10064.220035</td>\n",
       "      <td>6429.0</td>\n",
       "      <td>7017.75</td>\n",
       "      <td>7863.0</td>\n",
       "      <td>13244.00</td>\n",
       "      <td>27440.0</td>\n",
       "    </tr>\n",
       "    <tr>\n",
       "      <th>Computers &amp; Mathematics</th>\n",
       "      <td>11.0</td>\n",
       "      <td>57.000000</td>\n",
       "      <td>24.195041</td>\n",
       "      <td>21.0</td>\n",
       "      <td>44.50</td>\n",
       "      <td>48.0</td>\n",
       "      <td>68.00</td>\n",
       "      <td>106.0</td>\n",
       "      <td>11.0</td>\n",
       "      <td>2702.727273</td>\n",
       "      <td>...</td>\n",
       "      <td>10288.50</td>\n",
       "      <td>25667.0</td>\n",
       "      <td>11.0</td>\n",
       "      <td>1466.909091</td>\n",
       "      <td>1832.767986</td>\n",
       "      <td>25.0</td>\n",
       "      <td>325.50</td>\n",
       "      <td>357.0</td>\n",
       "      <td>2083.50</td>\n",
       "      <td>5144.0</td>\n",
       "    </tr>\n",
       "    <tr>\n",
       "      <th>Education</th>\n",
       "      <td>16.0</td>\n",
       "      <td>130.375000</td>\n",
       "      <td>27.436897</td>\n",
       "      <td>56.0</td>\n",
       "      <td>119.50</td>\n",
       "      <td>132.5</td>\n",
       "      <td>145.75</td>\n",
       "      <td>173.0</td>\n",
       "      <td>16.0</td>\n",
       "      <td>2387.687500</td>\n",
       "      <td>...</td>\n",
       "      <td>7843.75</td>\n",
       "      <td>36972.0</td>\n",
       "      <td>16.0</td>\n",
       "      <td>2554.375000</td>\n",
       "      <td>3609.046797</td>\n",
       "      <td>0.0</td>\n",
       "      <td>640.50</td>\n",
       "      <td>1282.0</td>\n",
       "      <td>2780.00</td>\n",
       "      <td>11502.0</td>\n",
       "    </tr>\n",
       "    <tr>\n",
       "      <th>Engineering</th>\n",
       "      <td>29.0</td>\n",
       "      <td>22.620690</td>\n",
       "      <td>18.640229</td>\n",
       "      <td>1.0</td>\n",
       "      <td>10.00</td>\n",
       "      <td>17.0</td>\n",
       "      <td>31.00</td>\n",
       "      <td>67.0</td>\n",
       "      <td>29.0</td>\n",
       "      <td>2489.896552</td>\n",
       "      <td>...</td>\n",
       "      <td>3896.00</td>\n",
       "      <td>16384.0</td>\n",
       "      <td>29.0</td>\n",
       "      <td>864.793103</td>\n",
       "      <td>1198.416824</td>\n",
       "      <td>0.0</td>\n",
       "      <td>142.00</td>\n",
       "      <td>372.0</td>\n",
       "      <td>789.00</td>\n",
       "      <td>4221.0</td>\n",
       "    </tr>\n",
       "    <tr>\n",
       "      <th>Health</th>\n",
       "      <td>12.0</td>\n",
       "      <td>96.500000</td>\n",
       "      <td>40.435133</td>\n",
       "      <td>35.0</td>\n",
       "      <td>58.75</td>\n",
       "      <td>104.5</td>\n",
       "      <td>123.25</td>\n",
       "      <td>164.0</td>\n",
       "      <td>12.0</td>\n",
       "      <td>5937.916667</td>\n",
       "      <td>...</td>\n",
       "      <td>10275.25</td>\n",
       "      <td>26146.0</td>\n",
       "      <td>12.0</td>\n",
       "      <td>2605.833333</td>\n",
       "      <td>1815.790678</td>\n",
       "      <td>1002.0</td>\n",
       "      <td>1242.25</td>\n",
       "      <td>1638.0</td>\n",
       "      <td>3979.00</td>\n",
       "      <td>6193.0</td>\n",
       "    </tr>\n",
       "    <tr>\n",
       "      <th>Humanities &amp; Liberal Arts</th>\n",
       "      <td>15.0</td>\n",
       "      <td>135.066667</td>\n",
       "      <td>27.698547</td>\n",
       "      <td>70.0</td>\n",
       "      <td>116.50</td>\n",
       "      <td>138.0</td>\n",
       "      <td>158.50</td>\n",
       "      <td>168.0</td>\n",
       "      <td>15.0</td>\n",
       "      <td>4048.600000</td>\n",
       "      <td>...</td>\n",
       "      <td>19253.00</td>\n",
       "      <td>71827.0</td>\n",
       "      <td>15.0</td>\n",
       "      <td>6282.666667</td>\n",
       "      <td>6971.023215</td>\n",
       "      <td>302.0</td>\n",
       "      <td>2626.50</td>\n",
       "      <td>3466.0</td>\n",
       "      <td>7458.50</td>\n",
       "      <td>26503.0</td>\n",
       "    </tr>\n",
       "    <tr>\n",
       "      <th>Industrial Arts &amp; Consumer Services</th>\n",
       "      <td>7.0</td>\n",
       "      <td>105.142857</td>\n",
       "      <td>48.933385</td>\n",
       "      <td>27.0</td>\n",
       "      <td>75.00</td>\n",
       "      <td>107.0</td>\n",
       "      <td>145.50</td>\n",
       "      <td>161.0</td>\n",
       "      <td>7.0</td>\n",
       "      <td>4315.285714</td>\n",
       "      <td>...</td>\n",
       "      <td>13758.50</td>\n",
       "      <td>63946.0</td>\n",
       "      <td>7.0</td>\n",
       "      <td>3798.571429</td>\n",
       "      <td>6067.280029</td>\n",
       "      <td>0.0</td>\n",
       "      <td>319.00</td>\n",
       "      <td>703.0</td>\n",
       "      <td>4205.50</td>\n",
       "      <td>16838.0</td>\n",
       "    </tr>\n",
       "    <tr>\n",
       "      <th>Interdisciplinary</th>\n",
       "      <td>1.0</td>\n",
       "      <td>110.000000</td>\n",
       "      <td>NaN</td>\n",
       "      <td>110.0</td>\n",
       "      <td>110.00</td>\n",
       "      <td>110.0</td>\n",
       "      <td>110.00</td>\n",
       "      <td>110.0</td>\n",
       "      <td>1.0</td>\n",
       "      <td>4000.000000</td>\n",
       "      <td>...</td>\n",
       "      <td>3903.00</td>\n",
       "      <td>3903.0</td>\n",
       "      <td>1.0</td>\n",
       "      <td>1061.000000</td>\n",
       "      <td>NaN</td>\n",
       "      <td>1061.0</td>\n",
       "      <td>1061.00</td>\n",
       "      <td>1061.0</td>\n",
       "      <td>1061.00</td>\n",
       "      <td>1061.0</td>\n",
       "    </tr>\n",
       "    <tr>\n",
       "      <th>Law &amp; Public Policy</th>\n",
       "      <td>5.0</td>\n",
       "      <td>64.600000</td>\n",
       "      <td>36.411537</td>\n",
       "      <td>20.0</td>\n",
       "      <td>30.00</td>\n",
       "      <td>88.0</td>\n",
       "      <td>90.00</td>\n",
       "      <td>95.0</td>\n",
       "      <td>5.0</td>\n",
       "      <td>4501.400000</td>\n",
       "      <td>...</td>\n",
       "      <td>6454.00</td>\n",
       "      <td>88858.0</td>\n",
       "      <td>5.0</td>\n",
       "      <td>4144.000000</td>\n",
       "      <td>7984.528540</td>\n",
       "      <td>144.0</td>\n",
       "      <td>340.00</td>\n",
       "      <td>496.0</td>\n",
       "      <td>1336.00</td>\n",
       "      <td>18404.0</td>\n",
       "    </tr>\n",
       "    <tr>\n",
       "      <th>Physical Sciences</th>\n",
       "      <td>10.0</td>\n",
       "      <td>67.600000</td>\n",
       "      <td>31.549608</td>\n",
       "      <td>8.0</td>\n",
       "      <td>45.50</td>\n",
       "      <td>74.0</td>\n",
       "      <td>89.75</td>\n",
       "      <td>111.0</td>\n",
       "      <td>10.0</td>\n",
       "      <td>5022.800000</td>\n",
       "      <td>...</td>\n",
       "      <td>4130.00</td>\n",
       "      <td>22039.0</td>\n",
       "      <td>10.0</td>\n",
       "      <td>1407.800000</td>\n",
       "      <td>2004.458630</td>\n",
       "      <td>124.0</td>\n",
       "      <td>220.25</td>\n",
       "      <td>253.0</td>\n",
       "      <td>1607.00</td>\n",
       "      <td>5751.0</td>\n",
       "    </tr>\n",
       "    <tr>\n",
       "      <th>Psychology &amp; Social Work</th>\n",
       "      <td>9.0</td>\n",
       "      <td>143.000000</td>\n",
       "      <td>36.390246</td>\n",
       "      <td>71.0</td>\n",
       "      <td>146.00</td>\n",
       "      <td>156.0</td>\n",
       "      <td>170.00</td>\n",
       "      <td>172.0</td>\n",
       "      <td>9.0</td>\n",
       "      <td>5258.111111</td>\n",
       "      <td>...</td>\n",
       "      <td>4595.00</td>\n",
       "      <td>141860.0</td>\n",
       "      <td>9.0</td>\n",
       "      <td>6249.555556</td>\n",
       "      <td>15791.940920</td>\n",
       "      <td>37.0</td>\n",
       "      <td>272.00</td>\n",
       "      <td>622.0</td>\n",
       "      <td>1650.00</td>\n",
       "      <td>48207.0</td>\n",
       "    </tr>\n",
       "    <tr>\n",
       "      <th>Social Science</th>\n",
       "      <td>9.0</td>\n",
       "      <td>91.666667</td>\n",
       "      <td>36.231892</td>\n",
       "      <td>37.0</td>\n",
       "      <td>69.00</td>\n",
       "      <td>80.0</td>\n",
       "      <td>125.00</td>\n",
       "      <td>143.0</td>\n",
       "      <td>9.0</td>\n",
       "      <td>5348.000000</td>\n",
       "      <td>...</td>\n",
       "      <td>37057.00</td>\n",
       "      <td>66947.0</td>\n",
       "      <td>9.0</td>\n",
       "      <td>6020.000000</td>\n",
       "      <td>6956.232439</td>\n",
       "      <td>573.0</td>\n",
       "      <td>1634.00</td>\n",
       "      <td>1905.0</td>\n",
       "      <td>10653.00</td>\n",
       "      <td>19803.0</td>\n",
       "    </tr>\n",
       "  </tbody>\n",
       "</table>\n",
       "<p>16 rows × 152 columns</p>\n",
       "</div>"
      ],
      "text/plain": [
       "                                     Rank                                \\\n",
       "                                    count        mean        std    min   \n",
       "Major_category                                                            \n",
       "Agriculture & Natural Resources      10.0  101.500000  45.132521   22.0   \n",
       "Arts                                  8.0  131.125000  45.091772   33.0   \n",
       "Biology & Life Science               14.0   95.357143  33.726518   49.0   \n",
       "Business                             13.0   55.846154  31.929209    7.0   \n",
       "Communications & Journalism           4.0  104.000000  14.809907   94.0   \n",
       "Computers & Mathematics              11.0   57.000000  24.195041   21.0   \n",
       "Education                            16.0  130.375000  27.436897   56.0   \n",
       "Engineering                          29.0   22.620690  18.640229    1.0   \n",
       "Health                               12.0   96.500000  40.435133   35.0   \n",
       "Humanities & Liberal Arts            15.0  135.066667  27.698547   70.0   \n",
       "Industrial Arts & Consumer Services   7.0  105.142857  48.933385   27.0   \n",
       "Interdisciplinary                     1.0  110.000000        NaN  110.0   \n",
       "Law & Public Policy                   5.0   64.600000  36.411537   20.0   \n",
       "Physical Sciences                    10.0   67.600000  31.549608    8.0   \n",
       "Psychology & Social Work              9.0  143.000000  36.390246   71.0   \n",
       "Social Science                        9.0   91.666667  36.231892   37.0   \n",
       "\n",
       "                                                                  Major_code  \\\n",
       "                                        25%    50%     75%    max      count   \n",
       "Major_category                                                                 \n",
       "Agriculture & Natural Resources       66.75  110.0  136.25  162.0       10.0   \n",
       "Arts                                 130.50  148.5  155.50  167.0        8.0   \n",
       "Biology & Life Science                71.25   88.5  119.50  169.0       14.0   \n",
       "Business                              36.00   58.0   77.00  128.0       13.0   \n",
       "Communications & Journalism           96.25   98.0  105.75  126.0        4.0   \n",
       "Computers & Mathematics               44.50   48.0   68.00  106.0       11.0   \n",
       "Education                            119.50  132.5  145.75  173.0       16.0   \n",
       "Engineering                           10.00   17.0   31.00   67.0       29.0   \n",
       "Health                                58.75  104.5  123.25  164.0       12.0   \n",
       "Humanities & Liberal Arts            116.50  138.0  158.50  168.0       15.0   \n",
       "Industrial Arts & Consumer Services   75.00  107.0  145.50  161.0        7.0   \n",
       "Interdisciplinary                    110.00  110.0  110.00  110.0        1.0   \n",
       "Law & Public Policy                   30.00   88.0   90.00   95.0        5.0   \n",
       "Physical Sciences                     45.50   74.0   89.75  111.0       10.0   \n",
       "Psychology & Social Work             146.00  156.0  170.00  172.0        9.0   \n",
       "Social Science                        69.00   80.0  125.00  143.0        9.0   \n",
       "\n",
       "                                                  ... Non_college_jobs  \\\n",
       "                                            mean  ...              75%   \n",
       "Major_category                                    ...                    \n",
       "Agriculture & Natural Resources      1152.500000  ...          5535.25   \n",
       "Arts                                 6015.125000  ...         29770.75   \n",
       "Biology & Life Science               3475.857143  ...          6210.25   \n",
       "Business                             6213.000000  ...         48447.00   \n",
       "Communications & Journalism          1902.500000  ...         44495.00   \n",
       "Computers & Mathematics              2702.727273  ...         10288.50   \n",
       "Education                            2387.687500  ...          7843.75   \n",
       "Engineering                          2489.896552  ...          3896.00   \n",
       "Health                               5937.916667  ...         10275.25   \n",
       "Humanities & Liberal Arts            4048.600000  ...         19253.00   \n",
       "Industrial Arts & Consumer Services  4315.285714  ...         13758.50   \n",
       "Interdisciplinary                    4000.000000  ...          3903.00   \n",
       "Law & Public Policy                  4501.400000  ...          6454.00   \n",
       "Physical Sciences                    5022.800000  ...          4130.00   \n",
       "Psychology & Social Work             5258.111111  ...          4595.00   \n",
       "Social Science                       5348.000000  ...         37057.00   \n",
       "\n",
       "                                              Low_wage_jobs                \\\n",
       "                                          max         count          mean   \n",
       "Major_category                                                              \n",
       "Agriculture & Natural Resources        9571.0          10.0    789.900000   \n",
       "Arts                                  38119.0           8.0   7514.500000   \n",
       "Biology & Life Science                81109.0          14.0   3053.000000   \n",
       "Business                             148395.0          13.0   9752.923077   \n",
       "Communications & Journalism           97964.0           4.0  12398.750000   \n",
       "Computers & Mathematics               25667.0          11.0   1466.909091   \n",
       "Education                             36972.0          16.0   2554.375000   \n",
       "Engineering                           16384.0          29.0    864.793103   \n",
       "Health                                26146.0          12.0   2605.833333   \n",
       "Humanities & Liberal Arts             71827.0          15.0   6282.666667   \n",
       "Industrial Arts & Consumer Services   63946.0           7.0   3798.571429   \n",
       "Interdisciplinary                      3903.0           1.0   1061.000000   \n",
       "Law & Public Policy                   88858.0           5.0   4144.000000   \n",
       "Physical Sciences                     22039.0          10.0   1407.800000   \n",
       "Psychology & Social Work             141860.0           9.0   6249.555556   \n",
       "Social Science                        66947.0           9.0   6020.000000   \n",
       "\n",
       "                                                                            \\\n",
       "                                              std     min      25%     50%   \n",
       "Major_category                                                               \n",
       "Agriculture & Natural Resources        720.841091     0.0   152.25   662.0   \n",
       "Arts                                  4988.230777   755.0  3399.50  7574.0   \n",
       "Biology & Life Science                7349.937697    56.0   265.50   939.0   \n",
       "Business                             11756.645798   259.0  1284.00  3046.0   \n",
       "Communications & Journalism          10064.220035  6429.0  7017.75  7863.0   \n",
       "Computers & Mathematics               1832.767986    25.0   325.50   357.0   \n",
       "Education                             3609.046797     0.0   640.50  1282.0   \n",
       "Engineering                           1198.416824     0.0   142.00   372.0   \n",
       "Health                                1815.790678  1002.0  1242.25  1638.0   \n",
       "Humanities & Liberal Arts             6971.023215   302.0  2626.50  3466.0   \n",
       "Industrial Arts & Consumer Services   6067.280029     0.0   319.00   703.0   \n",
       "Interdisciplinary                             NaN  1061.0  1061.00  1061.0   \n",
       "Law & Public Policy                   7984.528540   144.0   340.00   496.0   \n",
       "Physical Sciences                     2004.458630   124.0   220.25   253.0   \n",
       "Psychology & Social Work             15791.940920    37.0   272.00   622.0   \n",
       "Social Science                        6956.232439   573.0  1634.00  1905.0   \n",
       "\n",
       "                                                        \n",
       "                                          75%      max  \n",
       "Major_category                                          \n",
       "Agriculture & Natural Resources       1329.25   2125.0  \n",
       "Arts                                 11271.00  14839.0  \n",
       "Biology & Life Science                1989.25  28339.0  \n",
       "Business                             10886.00  32395.0  \n",
       "Communications & Journalism          13244.00  27440.0  \n",
       "Computers & Mathematics               2083.50   5144.0  \n",
       "Education                             2780.00  11502.0  \n",
       "Engineering                            789.00   4221.0  \n",
       "Health                                3979.00   6193.0  \n",
       "Humanities & Liberal Arts             7458.50  26503.0  \n",
       "Industrial Arts & Consumer Services   4205.50  16838.0  \n",
       "Interdisciplinary                     1061.00   1061.0  \n",
       "Law & Public Policy                   1336.00  18404.0  \n",
       "Physical Sciences                     1607.00   5751.0  \n",
       "Psychology & Social Work              1650.00  48207.0  \n",
       "Social Science                       10653.00  19803.0  \n",
       "\n",
       "[16 rows x 152 columns]"
      ]
     },
     "execution_count": 124,
     "metadata": {},
     "output_type": "execute_result"
    }
   ],
   "source": [
    "df_raw.groupby('Major_category').describe()"
   ]
  },
  {
   "cell_type": "code",
   "execution_count": 130,
   "id": "f1ff96a0-cede-4f22-9fd6-0fb838f6cb06",
   "metadata": {},
   "outputs": [
    {
     "data": {
      "application/vnd.plotly.v1+json": {
       "config": {
        "plotlyServerURL": "https://plot.ly"
       },
       "data": [
        {
         "alignmentgroup": "True",
         "bingroup": "x",
         "hovertemplate": "Major_category=Engineering<br>Median=%{x}<br>count=%{y}<extra></extra>",
         "legendgroup": "",
         "marker": {
          "color": "#636efa",
          "pattern": {
           "shape": ""
          }
         },
         "name": "",
         "offsetgroup": "",
         "orientation": "v",
         "showlegend": false,
         "type": "histogram",
         "x": [
          110000,
          75000,
          73000,
          70000,
          65000,
          65000,
          60000,
          60000,
          60000,
          60000,
          60000,
          60000,
          58000,
          57100,
          57000,
          56000,
          54000,
          52000,
          52000,
          50000,
          50000,
          50000,
          50000,
          50000,
          46000,
          44000,
          40000,
          40000,
          40000
         ],
         "xaxis": "x9",
         "yaxis": "y9"
        },
        {
         "alignmentgroup": "True",
         "bingroup": "x",
         "hovertemplate": "Major_category=Business<br>Median=%{x}<br>count=%{y}<extra></extra>",
         "legendgroup": "",
         "marker": {
          "color": "#636efa",
          "pattern": {
           "shape": ""
          }
         },
         "name": "",
         "offsetgroup": "",
         "orientation": "v",
         "showlegend": false,
         "type": "histogram",
         "x": [
          62000,
          51000,
          50000,
          47000,
          46000,
          45000,
          40000,
          40000,
          40000,
          38000,
          38000,
          36000,
          33000
         ],
         "xaxis": "x10",
         "yaxis": "y10"
        },
        {
         "alignmentgroup": "True",
         "bingroup": "x",
         "hovertemplate": "Major_category=Physical Sciences<br>Median=%{x}<br>count=%{y}<extra></extra>",
         "legendgroup": "",
         "marker": {
          "color": "#636efa",
          "pattern": {
           "shape": ""
          }
         },
         "name": "",
         "offsetgroup": "",
         "orientation": "v",
         "showlegend": false,
         "type": "histogram",
         "x": [
          62000,
          46000,
          45000,
          44700,
          40000,
          39000,
          36200,
          36000,
          35000,
          35000
         ],
         "xaxis": "x11",
         "yaxis": "y11"
        },
        {
         "alignmentgroup": "True",
         "bingroup": "x",
         "hovertemplate": "Major_category=Law & Public Policy<br>Median=%{x}<br>count=%{y}<extra></extra>",
         "legendgroup": "",
         "marker": {
          "color": "#636efa",
          "pattern": {
           "shape": ""
          }
         },
         "name": "",
         "offsetgroup": "",
         "orientation": "v",
         "showlegend": false,
         "type": "histogram",
         "x": [
          54000,
          50000,
          36000,
          36000,
          35000
         ],
         "xaxis": "x12",
         "yaxis": "y12"
        },
        {
         "alignmentgroup": "True",
         "bingroup": "x",
         "hovertemplate": "Major_category=Computers & Mathematics<br>Median=%{x}<br>count=%{y}<extra></extra>",
         "legendgroup": "",
         "marker": {
          "color": "#636efa",
          "pattern": {
           "shape": ""
          }
         },
         "name": "",
         "offsetgroup": "",
         "orientation": "v",
         "showlegend": false,
         "type": "histogram",
         "x": [
          53000,
          45000,
          45000,
          45000,
          45000,
          45000,
          42000,
          41300,
          37500,
          36400,
          35000
         ],
         "xaxis": "x13",
         "yaxis": "y13"
        },
        {
         "alignmentgroup": "True",
         "bingroup": "x",
         "hovertemplate": "Major_category=Agriculture & Natural Resources<br>Median=%{x}<br>count=%{y}<extra></extra>",
         "legendgroup": "",
         "marker": {
          "color": "#636efa",
          "pattern": {
           "shape": ""
          }
         },
         "name": "",
         "offsetgroup": "",
         "orientation": "v",
         "showlegend": false,
         "type": "histogram",
         "x": [
          53000,
          40000,
          40000,
          40000,
          35000,
          35000,
          35000,
          32000,
          30000,
          29000
         ],
         "xaxis": "x14",
         "yaxis": "y14"
        },
        {
         "alignmentgroup": "True",
         "bingroup": "x",
         "hovertemplate": "Major_category=Industrial Arts & Consumer Services<br>Median=%{x}<br>count=%{y}<extra></extra>",
         "legendgroup": "",
         "marker": {
          "color": "#636efa",
          "pattern": {
           "shape": ""
          }
         },
         "name": "",
         "offsetgroup": "",
         "orientation": "v",
         "showlegend": false,
         "type": "histogram",
         "x": [
          50000,
          40000,
          38400,
          35000,
          32000,
          30000,
          29000
         ],
         "xaxis": "x15",
         "yaxis": "y15"
        },
        {
         "alignmentgroup": "True",
         "bingroup": "x",
         "hovertemplate": "Major_category=Arts<br>Median=%{x}<br>count=%{y}<extra></extra>",
         "legendgroup": "",
         "marker": {
          "color": "#636efa",
          "pattern": {
           "shape": ""
          }
         },
         "name": "",
         "offsetgroup": "",
         "orientation": "v",
         "showlegend": false,
         "type": "histogram",
         "x": [
          50000,
          35000,
          32000,
          31000,
          30500,
          30000,
          29000,
          27000
         ],
         "xaxis": "x16",
         "yaxis": "y16"
        },
        {
         "alignmentgroup": "True",
         "bingroup": "x",
         "hovertemplate": "Major_category=Health<br>Median=%{x}<br>count=%{y}<extra></extra>",
         "legendgroup": "",
         "marker": {
          "color": "#636efa",
          "pattern": {
           "shape": ""
          }
         },
         "name": "",
         "offsetgroup": "",
         "orientation": "v",
         "showlegend": false,
         "type": "histogram",
         "x": [
          48000,
          45000,
          42000,
          40000,
          36000,
          35000,
          35000,
          34000,
          33500,
          33000,
          32400,
          28000
         ],
         "xaxis": "x",
         "yaxis": "y"
        },
        {
         "alignmentgroup": "True",
         "bingroup": "x",
         "hovertemplate": "Major_category=Social Science<br>Median=%{x}<br>count=%{y}<extra></extra>",
         "legendgroup": "",
         "marker": {
          "color": "#636efa",
          "pattern": {
           "shape": ""
          }
         },
         "name": "",
         "offsetgroup": "",
         "orientation": "v",
         "showlegend": false,
         "type": "histogram",
         "x": [
          47000,
          40100,
          40000,
          38000,
          38000,
          35000,
          33000,
          33000,
          32000
         ],
         "xaxis": "x2",
         "yaxis": "y2"
        },
        {
         "alignmentgroup": "True",
         "bingroup": "x",
         "hovertemplate": "Major_category=Biology & Life Science<br>Median=%{x}<br>count=%{y}<extra></extra>",
         "legendgroup": "",
         "marker": {
          "color": "#636efa",
          "pattern": {
           "shape": ""
          }
         },
         "name": "",
         "offsetgroup": "",
         "orientation": "v",
         "showlegend": false,
         "type": "histogram",
         "x": [
          45000,
          41000,
          40000,
          40000,
          38000,
          37400,
          37000,
          35600,
          35000,
          35000,
          33500,
          33400,
          33000,
          26000
         ],
         "xaxis": "x3",
         "yaxis": "y3"
        },
        {
         "alignmentgroup": "True",
         "bingroup": "x",
         "hovertemplate": "Major_category=Education<br>Median=%{x}<br>count=%{y}<extra></extra>",
         "legendgroup": "",
         "marker": {
          "color": "#636efa",
          "pattern": {
           "shape": ""
          }
         },
         "name": "",
         "offsetgroup": "",
         "orientation": "v",
         "showlegend": false,
         "type": "histogram",
         "x": [
          41000,
          35000,
          34000,
          34000,
          34000,
          34000,
          33000,
          33000,
          32500,
          32100,
          32000,
          32000,
          31000,
          30000,
          28000,
          22000
         ],
         "xaxis": "x4",
         "yaxis": "y4"
        },
        {
         "alignmentgroup": "True",
         "bingroup": "x",
         "hovertemplate": "Major_category=Humanities & Liberal Arts<br>Median=%{x}<br>count=%{y}<extra></extra>",
         "legendgroup": "",
         "marker": {
          "color": "#636efa",
          "pattern": {
           "shape": ""
          }
         },
         "name": "",
         "offsetgroup": "",
         "orientation": "v",
         "showlegend": false,
         "type": "histogram",
         "x": [
          40000,
          35000,
          34000,
          34000,
          34000,
          33000,
          32200,
          32000,
          32000,
          31000,
          30000,
          29000,
          28000,
          27500,
          27000
         ],
         "xaxis": "x5",
         "yaxis": "y5"
        },
        {
         "alignmentgroup": "True",
         "bingroup": "x",
         "hovertemplate": "Major_category=Psychology & Social Work<br>Median=%{x}<br>count=%{y}<extra></extra>",
         "legendgroup": "",
         "marker": {
          "color": "#636efa",
          "pattern": {
           "shape": ""
          }
         },
         "name": "",
         "offsetgroup": "",
         "orientation": "v",
         "showlegend": false,
         "type": "histogram",
         "x": [
          40000,
          36000,
          31500,
          30000,
          30000,
          30000,
          25000,
          25000,
          23400
         ],
         "xaxis": "x6",
         "yaxis": "y6"
        },
        {
         "alignmentgroup": "True",
         "bingroup": "x",
         "hovertemplate": "Major_category=Communications & Journalism<br>Median=%{x}<br>count=%{y}<extra></extra>",
         "legendgroup": "",
         "marker": {
          "color": "#636efa",
          "pattern": {
           "shape": ""
          }
         },
         "name": "",
         "offsetgroup": "",
         "orientation": "v",
         "showlegend": false,
         "type": "histogram",
         "x": [
          35000,
          35000,
          35000,
          33000
         ],
         "xaxis": "x7",
         "yaxis": "y7"
        },
        {
         "alignmentgroup": "True",
         "bingroup": "x",
         "hovertemplate": "Major_category=Interdisciplinary<br>Median=%{x}<br>count=%{y}<extra></extra>",
         "legendgroup": "",
         "marker": {
          "color": "#636efa",
          "pattern": {
           "shape": ""
          }
         },
         "name": "",
         "offsetgroup": "",
         "orientation": "v",
         "showlegend": false,
         "type": "histogram",
         "x": [
          35000
         ],
         "xaxis": "x8",
         "yaxis": "y8"
        }
       ],
       "layout": {
        "annotations": [
         {
          "font": {},
          "showarrow": false,
          "text": "Major_category=Health",
          "x": 0.05375,
          "xanchor": "center",
          "xref": "paper",
          "y": 0.46499999999999997,
          "yanchor": "bottom",
          "yref": "paper"
         },
         {
          "font": {},
          "showarrow": false,
          "text": "Major_category=Social Science",
          "x": 0.18125,
          "xanchor": "center",
          "xref": "paper",
          "y": 0.46499999999999997,
          "yanchor": "bottom",
          "yref": "paper"
         },
         {
          "font": {},
          "showarrow": false,
          "text": "Major_category=Biology & Life Science",
          "x": 0.30874999999999997,
          "xanchor": "center",
          "xref": "paper",
          "y": 0.46499999999999997,
          "yanchor": "bottom",
          "yref": "paper"
         },
         {
          "font": {},
          "showarrow": false,
          "text": "Major_category=Education",
          "x": 0.43625,
          "xanchor": "center",
          "xref": "paper",
          "y": 0.46499999999999997,
          "yanchor": "bottom",
          "yref": "paper"
         },
         {
          "font": {},
          "showarrow": false,
          "text": "Major_category=Humanities & Liberal Arts",
          "x": 0.56375,
          "xanchor": "center",
          "xref": "paper",
          "y": 0.46499999999999997,
          "yanchor": "bottom",
          "yref": "paper"
         },
         {
          "font": {},
          "showarrow": false,
          "text": "Major_category=Psychology & Social Work",
          "x": 0.6912499999999999,
          "xanchor": "center",
          "xref": "paper",
          "y": 0.46499999999999997,
          "yanchor": "bottom",
          "yref": "paper"
         },
         {
          "font": {},
          "showarrow": false,
          "text": "Major_category=Communications & Journalism",
          "x": 0.8187500000000001,
          "xanchor": "center",
          "xref": "paper",
          "y": 0.46499999999999997,
          "yanchor": "bottom",
          "yref": "paper"
         },
         {
          "font": {},
          "showarrow": false,
          "text": "Major_category=Interdisciplinary",
          "x": 0.94625,
          "xanchor": "center",
          "xref": "paper",
          "y": 0.46499999999999997,
          "yanchor": "bottom",
          "yref": "paper"
         },
         {
          "font": {},
          "showarrow": false,
          "text": "Major_category=Engineering",
          "x": 0.05375,
          "xanchor": "center",
          "xref": "paper",
          "y": 0.9999999999999999,
          "yanchor": "bottom",
          "yref": "paper"
         },
         {
          "font": {},
          "showarrow": false,
          "text": "Major_category=Business",
          "x": 0.18125,
          "xanchor": "center",
          "xref": "paper",
          "y": 0.9999999999999999,
          "yanchor": "bottom",
          "yref": "paper"
         },
         {
          "font": {},
          "showarrow": false,
          "text": "Major_category=Physical Sciences",
          "x": 0.30874999999999997,
          "xanchor": "center",
          "xref": "paper",
          "y": 0.9999999999999999,
          "yanchor": "bottom",
          "yref": "paper"
         },
         {
          "font": {},
          "showarrow": false,
          "text": "Major_category=Law & Public Policy",
          "x": 0.43625,
          "xanchor": "center",
          "xref": "paper",
          "y": 0.9999999999999999,
          "yanchor": "bottom",
          "yref": "paper"
         },
         {
          "font": {},
          "showarrow": false,
          "text": "Major_category=Computers & Mathematics",
          "x": 0.56375,
          "xanchor": "center",
          "xref": "paper",
          "y": 0.9999999999999999,
          "yanchor": "bottom",
          "yref": "paper"
         },
         {
          "font": {},
          "showarrow": false,
          "text": "Major_category=Agriculture & Natural Resources",
          "x": 0.6912499999999999,
          "xanchor": "center",
          "xref": "paper",
          "y": 0.9999999999999999,
          "yanchor": "bottom",
          "yref": "paper"
         },
         {
          "font": {},
          "showarrow": false,
          "text": "Major_category=Industrial Arts & Consumer Services",
          "x": 0.8187500000000001,
          "xanchor": "center",
          "xref": "paper",
          "y": 0.9999999999999999,
          "yanchor": "bottom",
          "yref": "paper"
         },
         {
          "font": {},
          "showarrow": false,
          "text": "Major_category=Arts",
          "x": 0.94625,
          "xanchor": "center",
          "xref": "paper",
          "y": 0.9999999999999999,
          "yanchor": "bottom",
          "yref": "paper"
         }
        ],
        "autosize": true,
        "barmode": "relative",
        "legend": {
         "tracegroupgap": 0
        },
        "margin": {
         "t": 60
        },
        "template": {
         "data": {
          "bar": [
           {
            "error_x": {
             "color": "#2a3f5f"
            },
            "error_y": {
             "color": "#2a3f5f"
            },
            "marker": {
             "line": {
              "color": "#E5ECF6",
              "width": 0.5
             },
             "pattern": {
              "fillmode": "overlay",
              "size": 10,
              "solidity": 0.2
             }
            },
            "type": "bar"
           }
          ],
          "barpolar": [
           {
            "marker": {
             "line": {
              "color": "#E5ECF6",
              "width": 0.5
             },
             "pattern": {
              "fillmode": "overlay",
              "size": 10,
              "solidity": 0.2
             }
            },
            "type": "barpolar"
           }
          ],
          "carpet": [
           {
            "aaxis": {
             "endlinecolor": "#2a3f5f",
             "gridcolor": "white",
             "linecolor": "white",
             "minorgridcolor": "white",
             "startlinecolor": "#2a3f5f"
            },
            "baxis": {
             "endlinecolor": "#2a3f5f",
             "gridcolor": "white",
             "linecolor": "white",
             "minorgridcolor": "white",
             "startlinecolor": "#2a3f5f"
            },
            "type": "carpet"
           }
          ],
          "choropleth": [
           {
            "colorbar": {
             "outlinewidth": 0,
             "ticks": ""
            },
            "type": "choropleth"
           }
          ],
          "contour": [
           {
            "colorbar": {
             "outlinewidth": 0,
             "ticks": ""
            },
            "colorscale": [
             [
              0,
              "#0d0887"
             ],
             [
              0.1111111111111111,
              "#46039f"
             ],
             [
              0.2222222222222222,
              "#7201a8"
             ],
             [
              0.3333333333333333,
              "#9c179e"
             ],
             [
              0.4444444444444444,
              "#bd3786"
             ],
             [
              0.5555555555555556,
              "#d8576b"
             ],
             [
              0.6666666666666666,
              "#ed7953"
             ],
             [
              0.7777777777777778,
              "#fb9f3a"
             ],
             [
              0.8888888888888888,
              "#fdca26"
             ],
             [
              1,
              "#f0f921"
             ]
            ],
            "type": "contour"
           }
          ],
          "contourcarpet": [
           {
            "colorbar": {
             "outlinewidth": 0,
             "ticks": ""
            },
            "type": "contourcarpet"
           }
          ],
          "heatmap": [
           {
            "colorbar": {
             "outlinewidth": 0,
             "ticks": ""
            },
            "colorscale": [
             [
              0,
              "#0d0887"
             ],
             [
              0.1111111111111111,
              "#46039f"
             ],
             [
              0.2222222222222222,
              "#7201a8"
             ],
             [
              0.3333333333333333,
              "#9c179e"
             ],
             [
              0.4444444444444444,
              "#bd3786"
             ],
             [
              0.5555555555555556,
              "#d8576b"
             ],
             [
              0.6666666666666666,
              "#ed7953"
             ],
             [
              0.7777777777777778,
              "#fb9f3a"
             ],
             [
              0.8888888888888888,
              "#fdca26"
             ],
             [
              1,
              "#f0f921"
             ]
            ],
            "type": "heatmap"
           }
          ],
          "heatmapgl": [
           {
            "colorbar": {
             "outlinewidth": 0,
             "ticks": ""
            },
            "colorscale": [
             [
              0,
              "#0d0887"
             ],
             [
              0.1111111111111111,
              "#46039f"
             ],
             [
              0.2222222222222222,
              "#7201a8"
             ],
             [
              0.3333333333333333,
              "#9c179e"
             ],
             [
              0.4444444444444444,
              "#bd3786"
             ],
             [
              0.5555555555555556,
              "#d8576b"
             ],
             [
              0.6666666666666666,
              "#ed7953"
             ],
             [
              0.7777777777777778,
              "#fb9f3a"
             ],
             [
              0.8888888888888888,
              "#fdca26"
             ],
             [
              1,
              "#f0f921"
             ]
            ],
            "type": "heatmapgl"
           }
          ],
          "histogram": [
           {
            "marker": {
             "pattern": {
              "fillmode": "overlay",
              "size": 10,
              "solidity": 0.2
             }
            },
            "type": "histogram"
           }
          ],
          "histogram2d": [
           {
            "colorbar": {
             "outlinewidth": 0,
             "ticks": ""
            },
            "colorscale": [
             [
              0,
              "#0d0887"
             ],
             [
              0.1111111111111111,
              "#46039f"
             ],
             [
              0.2222222222222222,
              "#7201a8"
             ],
             [
              0.3333333333333333,
              "#9c179e"
             ],
             [
              0.4444444444444444,
              "#bd3786"
             ],
             [
              0.5555555555555556,
              "#d8576b"
             ],
             [
              0.6666666666666666,
              "#ed7953"
             ],
             [
              0.7777777777777778,
              "#fb9f3a"
             ],
             [
              0.8888888888888888,
              "#fdca26"
             ],
             [
              1,
              "#f0f921"
             ]
            ],
            "type": "histogram2d"
           }
          ],
          "histogram2dcontour": [
           {
            "colorbar": {
             "outlinewidth": 0,
             "ticks": ""
            },
            "colorscale": [
             [
              0,
              "#0d0887"
             ],
             [
              0.1111111111111111,
              "#46039f"
             ],
             [
              0.2222222222222222,
              "#7201a8"
             ],
             [
              0.3333333333333333,
              "#9c179e"
             ],
             [
              0.4444444444444444,
              "#bd3786"
             ],
             [
              0.5555555555555556,
              "#d8576b"
             ],
             [
              0.6666666666666666,
              "#ed7953"
             ],
             [
              0.7777777777777778,
              "#fb9f3a"
             ],
             [
              0.8888888888888888,
              "#fdca26"
             ],
             [
              1,
              "#f0f921"
             ]
            ],
            "type": "histogram2dcontour"
           }
          ],
          "mesh3d": [
           {
            "colorbar": {
             "outlinewidth": 0,
             "ticks": ""
            },
            "type": "mesh3d"
           }
          ],
          "parcoords": [
           {
            "line": {
             "colorbar": {
              "outlinewidth": 0,
              "ticks": ""
             }
            },
            "type": "parcoords"
           }
          ],
          "pie": [
           {
            "automargin": true,
            "type": "pie"
           }
          ],
          "scatter": [
           {
            "fillpattern": {
             "fillmode": "overlay",
             "size": 10,
             "solidity": 0.2
            },
            "type": "scatter"
           }
          ],
          "scatter3d": [
           {
            "line": {
             "colorbar": {
              "outlinewidth": 0,
              "ticks": ""
             }
            },
            "marker": {
             "colorbar": {
              "outlinewidth": 0,
              "ticks": ""
             }
            },
            "type": "scatter3d"
           }
          ],
          "scattercarpet": [
           {
            "marker": {
             "colorbar": {
              "outlinewidth": 0,
              "ticks": ""
             }
            },
            "type": "scattercarpet"
           }
          ],
          "scattergeo": [
           {
            "marker": {
             "colorbar": {
              "outlinewidth": 0,
              "ticks": ""
             }
            },
            "type": "scattergeo"
           }
          ],
          "scattergl": [
           {
            "marker": {
             "colorbar": {
              "outlinewidth": 0,
              "ticks": ""
             }
            },
            "type": "scattergl"
           }
          ],
          "scattermapbox": [
           {
            "marker": {
             "colorbar": {
              "outlinewidth": 0,
              "ticks": ""
             }
            },
            "type": "scattermapbox"
           }
          ],
          "scatterpolar": [
           {
            "marker": {
             "colorbar": {
              "outlinewidth": 0,
              "ticks": ""
             }
            },
            "type": "scatterpolar"
           }
          ],
          "scatterpolargl": [
           {
            "marker": {
             "colorbar": {
              "outlinewidth": 0,
              "ticks": ""
             }
            },
            "type": "scatterpolargl"
           }
          ],
          "scatterternary": [
           {
            "marker": {
             "colorbar": {
              "outlinewidth": 0,
              "ticks": ""
             }
            },
            "type": "scatterternary"
           }
          ],
          "surface": [
           {
            "colorbar": {
             "outlinewidth": 0,
             "ticks": ""
            },
            "colorscale": [
             [
              0,
              "#0d0887"
             ],
             [
              0.1111111111111111,
              "#46039f"
             ],
             [
              0.2222222222222222,
              "#7201a8"
             ],
             [
              0.3333333333333333,
              "#9c179e"
             ],
             [
              0.4444444444444444,
              "#bd3786"
             ],
             [
              0.5555555555555556,
              "#d8576b"
             ],
             [
              0.6666666666666666,
              "#ed7953"
             ],
             [
              0.7777777777777778,
              "#fb9f3a"
             ],
             [
              0.8888888888888888,
              "#fdca26"
             ],
             [
              1,
              "#f0f921"
             ]
            ],
            "type": "surface"
           }
          ],
          "table": [
           {
            "cells": {
             "fill": {
              "color": "#EBF0F8"
             },
             "line": {
              "color": "white"
             }
            },
            "header": {
             "fill": {
              "color": "#C8D4E3"
             },
             "line": {
              "color": "white"
             }
            },
            "type": "table"
           }
          ]
         },
         "layout": {
          "annotationdefaults": {
           "arrowcolor": "#2a3f5f",
           "arrowhead": 0,
           "arrowwidth": 1
          },
          "autotypenumbers": "strict",
          "coloraxis": {
           "colorbar": {
            "outlinewidth": 0,
            "ticks": ""
           }
          },
          "colorscale": {
           "diverging": [
            [
             0,
             "#8e0152"
            ],
            [
             0.1,
             "#c51b7d"
            ],
            [
             0.2,
             "#de77ae"
            ],
            [
             0.3,
             "#f1b6da"
            ],
            [
             0.4,
             "#fde0ef"
            ],
            [
             0.5,
             "#f7f7f7"
            ],
            [
             0.6,
             "#e6f5d0"
            ],
            [
             0.7,
             "#b8e186"
            ],
            [
             0.8,
             "#7fbc41"
            ],
            [
             0.9,
             "#4d9221"
            ],
            [
             1,
             "#276419"
            ]
           ],
           "sequential": [
            [
             0,
             "#0d0887"
            ],
            [
             0.1111111111111111,
             "#46039f"
            ],
            [
             0.2222222222222222,
             "#7201a8"
            ],
            [
             0.3333333333333333,
             "#9c179e"
            ],
            [
             0.4444444444444444,
             "#bd3786"
            ],
            [
             0.5555555555555556,
             "#d8576b"
            ],
            [
             0.6666666666666666,
             "#ed7953"
            ],
            [
             0.7777777777777778,
             "#fb9f3a"
            ],
            [
             0.8888888888888888,
             "#fdca26"
            ],
            [
             1,
             "#f0f921"
            ]
           ],
           "sequentialminus": [
            [
             0,
             "#0d0887"
            ],
            [
             0.1111111111111111,
             "#46039f"
            ],
            [
             0.2222222222222222,
             "#7201a8"
            ],
            [
             0.3333333333333333,
             "#9c179e"
            ],
            [
             0.4444444444444444,
             "#bd3786"
            ],
            [
             0.5555555555555556,
             "#d8576b"
            ],
            [
             0.6666666666666666,
             "#ed7953"
            ],
            [
             0.7777777777777778,
             "#fb9f3a"
            ],
            [
             0.8888888888888888,
             "#fdca26"
            ],
            [
             1,
             "#f0f921"
            ]
           ]
          },
          "colorway": [
           "#636efa",
           "#EF553B",
           "#00cc96",
           "#ab63fa",
           "#FFA15A",
           "#19d3f3",
           "#FF6692",
           "#B6E880",
           "#FF97FF",
           "#FECB52"
          ],
          "font": {
           "color": "#2a3f5f"
          },
          "geo": {
           "bgcolor": "white",
           "lakecolor": "white",
           "landcolor": "#E5ECF6",
           "showlakes": true,
           "showland": true,
           "subunitcolor": "white"
          },
          "hoverlabel": {
           "align": "left"
          },
          "hovermode": "closest",
          "mapbox": {
           "style": "light"
          },
          "paper_bgcolor": "white",
          "plot_bgcolor": "#E5ECF6",
          "polar": {
           "angularaxis": {
            "gridcolor": "white",
            "linecolor": "white",
            "ticks": ""
           },
           "bgcolor": "#E5ECF6",
           "radialaxis": {
            "gridcolor": "white",
            "linecolor": "white",
            "ticks": ""
           }
          },
          "scene": {
           "xaxis": {
            "backgroundcolor": "#E5ECF6",
            "gridcolor": "white",
            "gridwidth": 2,
            "linecolor": "white",
            "showbackground": true,
            "ticks": "",
            "zerolinecolor": "white"
           },
           "yaxis": {
            "backgroundcolor": "#E5ECF6",
            "gridcolor": "white",
            "gridwidth": 2,
            "linecolor": "white",
            "showbackground": true,
            "ticks": "",
            "zerolinecolor": "white"
           },
           "zaxis": {
            "backgroundcolor": "#E5ECF6",
            "gridcolor": "white",
            "gridwidth": 2,
            "linecolor": "white",
            "showbackground": true,
            "ticks": "",
            "zerolinecolor": "white"
           }
          },
          "shapedefaults": {
           "line": {
            "color": "#2a3f5f"
           }
          },
          "ternary": {
           "aaxis": {
            "gridcolor": "white",
            "linecolor": "white",
            "ticks": ""
           },
           "baxis": {
            "gridcolor": "white",
            "linecolor": "white",
            "ticks": ""
           },
           "bgcolor": "#E5ECF6",
           "caxis": {
            "gridcolor": "white",
            "linecolor": "white",
            "ticks": ""
           }
          },
          "title": {
           "x": 0.05
          },
          "xaxis": {
           "automargin": true,
           "gridcolor": "white",
           "linecolor": "white",
           "ticks": "",
           "title": {
            "standoff": 15
           },
           "zerolinecolor": "white",
           "zerolinewidth": 2
          },
          "yaxis": {
           "automargin": true,
           "gridcolor": "white",
           "linecolor": "white",
           "ticks": "",
           "title": {
            "standoff": 15
           },
           "zerolinecolor": "white",
           "zerolinewidth": 2
          }
         }
        },
        "xaxis": {
         "anchor": "y",
         "autorange": true,
         "domain": [
          0,
          0.1075
         ],
         "range": [
          19999.5,
          114999.5
         ],
         "title": {
          "text": "Median"
         },
         "type": "linear"
        },
        "xaxis10": {
         "anchor": "y10",
         "autorange": true,
         "domain": [
          0.1275,
          0.235
         ],
         "matches": "x",
         "range": [
          19999.5,
          114999.5
         ],
         "showticklabels": false,
         "type": "linear"
        },
        "xaxis11": {
         "anchor": "y11",
         "autorange": true,
         "domain": [
          0.255,
          0.3625
         ],
         "matches": "x",
         "range": [
          19999.5,
          114999.5
         ],
         "showticklabels": false,
         "type": "linear"
        },
        "xaxis12": {
         "anchor": "y12",
         "autorange": true,
         "domain": [
          0.3825,
          0.49
         ],
         "matches": "x",
         "range": [
          19999.5,
          114999.5
         ],
         "showticklabels": false,
         "type": "linear"
        },
        "xaxis13": {
         "anchor": "y13",
         "autorange": true,
         "domain": [
          0.51,
          0.6175
         ],
         "matches": "x",
         "range": [
          19999.5,
          114999.5
         ],
         "showticklabels": false,
         "type": "linear"
        },
        "xaxis14": {
         "anchor": "y14",
         "autorange": true,
         "domain": [
          0.6375,
          0.745
         ],
         "matches": "x",
         "range": [
          19999.5,
          114999.5
         ],
         "showticklabels": false,
         "type": "linear"
        },
        "xaxis15": {
         "anchor": "y15",
         "autorange": true,
         "domain": [
          0.765,
          0.8725
         ],
         "matches": "x",
         "range": [
          19999.5,
          114999.5
         ],
         "showticklabels": false,
         "type": "linear"
        },
        "xaxis16": {
         "anchor": "y16",
         "autorange": true,
         "domain": [
          0.8925000000000001,
          1
         ],
         "matches": "x",
         "range": [
          19999.5,
          114999.5
         ],
         "showticklabels": false,
         "type": "linear"
        },
        "xaxis2": {
         "anchor": "y2",
         "autorange": true,
         "domain": [
          0.1275,
          0.235
         ],
         "matches": "x",
         "range": [
          19999.5,
          114999.5
         ],
         "title": {
          "text": "Median"
         },
         "type": "linear"
        },
        "xaxis3": {
         "anchor": "y3",
         "autorange": true,
         "domain": [
          0.255,
          0.3625
         ],
         "matches": "x",
         "range": [
          19999.5,
          114999.5
         ],
         "title": {
          "text": "Median"
         },
         "type": "linear"
        },
        "xaxis4": {
         "anchor": "y4",
         "autorange": true,
         "domain": [
          0.3825,
          0.49
         ],
         "matches": "x",
         "range": [
          19999.5,
          114999.5
         ],
         "title": {
          "text": "Median"
         },
         "type": "linear"
        },
        "xaxis5": {
         "anchor": "y5",
         "autorange": true,
         "domain": [
          0.51,
          0.6175
         ],
         "matches": "x",
         "range": [
          19999.5,
          114999.5
         ],
         "title": {
          "text": "Median"
         },
         "type": "linear"
        },
        "xaxis6": {
         "anchor": "y6",
         "autorange": true,
         "domain": [
          0.6375,
          0.745
         ],
         "matches": "x",
         "range": [
          19999.5,
          114999.5
         ],
         "title": {
          "text": "Median"
         },
         "type": "linear"
        },
        "xaxis7": {
         "anchor": "y7",
         "autorange": true,
         "domain": [
          0.765,
          0.8725
         ],
         "matches": "x",
         "range": [
          19999.5,
          114999.5
         ],
         "title": {
          "text": "Median"
         },
         "type": "linear"
        },
        "xaxis8": {
         "anchor": "y8",
         "autorange": true,
         "domain": [
          0.8925000000000001,
          1
         ],
         "matches": "x",
         "range": [
          19999.5,
          114999.5
         ],
         "title": {
          "text": "Median"
         },
         "type": "linear"
        },
        "xaxis9": {
         "anchor": "y9",
         "autorange": true,
         "domain": [
          0,
          0.1075
         ],
         "matches": "x",
         "range": [
          19999.5,
          114999.5
         ],
         "showticklabels": false,
         "type": "linear"
        },
        "yaxis": {
         "anchor": "x",
         "autorange": true,
         "domain": [
          0,
          0.46499999999999997
         ],
         "range": [
          0,
          12.631578947368421
         ],
         "title": {
          "text": "count"
         }
        },
        "yaxis10": {
         "anchor": "x10",
         "autorange": true,
         "domain": [
          0.5349999999999999,
          0.9999999999999999
         ],
         "matches": "y",
         "range": [
          0,
          12.631578947368421
         ],
         "showticklabels": false
        },
        "yaxis11": {
         "anchor": "x11",
         "autorange": true,
         "domain": [
          0.5349999999999999,
          0.9999999999999999
         ],
         "matches": "y",
         "range": [
          0,
          12.631578947368421
         ],
         "showticklabels": false
        },
        "yaxis12": {
         "anchor": "x12",
         "autorange": true,
         "domain": [
          0.5349999999999999,
          0.9999999999999999
         ],
         "matches": "y",
         "range": [
          0,
          12.631578947368421
         ],
         "showticklabels": false
        },
        "yaxis13": {
         "anchor": "x13",
         "autorange": true,
         "domain": [
          0.5349999999999999,
          0.9999999999999999
         ],
         "matches": "y",
         "range": [
          0,
          12.631578947368421
         ],
         "showticklabels": false
        },
        "yaxis14": {
         "anchor": "x14",
         "autorange": true,
         "domain": [
          0.5349999999999999,
          0.9999999999999999
         ],
         "matches": "y",
         "range": [
          0,
          12.631578947368421
         ],
         "showticklabels": false
        },
        "yaxis15": {
         "anchor": "x15",
         "autorange": true,
         "domain": [
          0.5349999999999999,
          0.9999999999999999
         ],
         "matches": "y",
         "range": [
          0,
          12.631578947368421
         ],
         "showticklabels": false
        },
        "yaxis16": {
         "anchor": "x16",
         "autorange": true,
         "domain": [
          0.5349999999999999,
          0.9999999999999999
         ],
         "matches": "y",
         "range": [
          0,
          12.631578947368421
         ],
         "showticklabels": false
        },
        "yaxis2": {
         "anchor": "x2",
         "autorange": true,
         "domain": [
          0,
          0.46499999999999997
         ],
         "matches": "y",
         "range": [
          0,
          12.631578947368421
         ],
         "showticklabels": false
        },
        "yaxis3": {
         "anchor": "x3",
         "autorange": true,
         "domain": [
          0,
          0.46499999999999997
         ],
         "matches": "y",
         "range": [
          0,
          12.631578947368421
         ],
         "showticklabels": false
        },
        "yaxis4": {
         "anchor": "x4",
         "autorange": true,
         "domain": [
          0,
          0.46499999999999997
         ],
         "matches": "y",
         "range": [
          0,
          12.631578947368421
         ],
         "showticklabels": false
        },
        "yaxis5": {
         "anchor": "x5",
         "autorange": true,
         "domain": [
          0,
          0.46499999999999997
         ],
         "matches": "y",
         "range": [
          0,
          12.631578947368421
         ],
         "showticklabels": false
        },
        "yaxis6": {
         "anchor": "x6",
         "autorange": true,
         "domain": [
          0,
          0.46499999999999997
         ],
         "matches": "y",
         "range": [
          0,
          12.631578947368421
         ],
         "showticklabels": false
        },
        "yaxis7": {
         "anchor": "x7",
         "autorange": true,
         "domain": [
          0,
          0.46499999999999997
         ],
         "matches": "y",
         "range": [
          0,
          12.631578947368421
         ],
         "showticklabels": false
        },
        "yaxis8": {
         "anchor": "x8",
         "autorange": true,
         "domain": [
          0,
          0.46499999999999997
         ],
         "matches": "y",
         "range": [
          0,
          12.631578947368421
         ],
         "showticklabels": false
        },
        "yaxis9": {
         "anchor": "x9",
         "autorange": true,
         "domain": [
          0.5349999999999999,
          0.9999999999999999
         ],
         "matches": "y",
         "range": [
          0,
          12.631578947368421
         ],
         "title": {
          "text": "count"
         }
        }
       }
      },
      "image/png": "[encoded data removed]",
      "text/html": [
       "<div>                            <div id=\"d6078401-969b-4e61-8326-b49ea5cb33ed\" class=\"plotly-graph-div\" style=\"height:525px; width:100%;\"></div>            <script type=\"text/javascript\">                require([\"plotly\"], function(Plotly) {                    window.PLOTLYENV=window.PLOTLYENV || {};                                    if (document.getElementById(\"d6078401-969b-4e61-8326-b49ea5cb33ed\")) {                    Plotly.newPlot(                        \"d6078401-969b-4e61-8326-b49ea5cb33ed\",                        [{\"alignmentgroup\":\"True\",\"bingroup\":\"x\",\"hovertemplate\":\"Major_category=Engineering\\u003cbr\\u003eMedian=%{x}\\u003cbr\\u003ecount=%{y}\\u003cextra\\u003e\\u003c\\u002fextra\\u003e\",\"legendgroup\":\"\",\"marker\":{\"color\":\"#636efa\",\"pattern\":{\"shape\":\"\"}},\"name\":\"\",\"offsetgroup\":\"\",\"orientation\":\"v\",\"showlegend\":false,\"x\":[110000,75000,73000,70000,65000,65000,60000,60000,60000,60000,60000,60000,58000,57100,57000,56000,54000,52000,52000,50000,50000,50000,50000,50000,46000,44000,40000,40000,40000],\"xaxis\":\"x9\",\"yaxis\":\"y9\",\"type\":\"histogram\"},{\"alignmentgroup\":\"True\",\"bingroup\":\"x\",\"hovertemplate\":\"Major_category=Business\\u003cbr\\u003eMedian=%{x}\\u003cbr\\u003ecount=%{y}\\u003cextra\\u003e\\u003c\\u002fextra\\u003e\",\"legendgroup\":\"\",\"marker\":{\"color\":\"#636efa\",\"pattern\":{\"shape\":\"\"}},\"name\":\"\",\"offsetgroup\":\"\",\"orientation\":\"v\",\"showlegend\":false,\"x\":[62000,51000,50000,47000,46000,45000,40000,40000,40000,38000,38000,36000,33000],\"xaxis\":\"x10\",\"yaxis\":\"y10\",\"type\":\"histogram\"},{\"alignmentgroup\":\"True\",\"bingroup\":\"x\",\"hovertemplate\":\"Major_category=Physical Sciences\\u003cbr\\u003eMedian=%{x}\\u003cbr\\u003ecount=%{y}\\u003cextra\\u003e\\u003c\\u002fextra\\u003e\",\"legendgroup\":\"\",\"marker\":{\"color\":\"#636efa\",\"pattern\":{\"shape\":\"\"}},\"name\":\"\",\"offsetgroup\":\"\",\"orientation\":\"v\",\"showlegend\":false,\"x\":[62000,46000,45000,44700,40000,39000,36200,36000,35000,35000],\"xaxis\":\"x11\",\"yaxis\":\"y11\",\"type\":\"histogram\"},{\"alignmentgroup\":\"True\",\"bingroup\":\"x\",\"hovertemplate\":\"Major_category=Law & Public Policy\\u003cbr\\u003eMedian=%{x}\\u003cbr\\u003ecount=%{y}\\u003cextra\\u003e\\u003c\\u002fextra\\u003e\",\"legendgroup\":\"\",\"marker\":{\"color\":\"#636efa\",\"pattern\":{\"shape\":\"\"}},\"name\":\"\",\"offsetgroup\":\"\",\"orientation\":\"v\",\"showlegend\":false,\"x\":[54000,50000,36000,36000,35000],\"xaxis\":\"x12\",\"yaxis\":\"y12\",\"type\":\"histogram\"},{\"alignmentgroup\":\"True\",\"bingroup\":\"x\",\"hovertemplate\":\"Major_category=Computers & Mathematics\\u003cbr\\u003eMedian=%{x}\\u003cbr\\u003ecount=%{y}\\u003cextra\\u003e\\u003c\\u002fextra\\u003e\",\"legendgroup\":\"\",\"marker\":{\"color\":\"#636efa\",\"pattern\":{\"shape\":\"\"}},\"name\":\"\",\"offsetgroup\":\"\",\"orientation\":\"v\",\"showlegend\":false,\"x\":[53000,45000,45000,45000,45000,45000,42000,41300,37500,36400,35000],\"xaxis\":\"x13\",\"yaxis\":\"y13\",\"type\":\"histogram\"},{\"alignmentgroup\":\"True\",\"bingroup\":\"x\",\"hovertemplate\":\"Major_category=Agriculture & Natural Resources\\u003cbr\\u003eMedian=%{x}\\u003cbr\\u003ecount=%{y}\\u003cextra\\u003e\\u003c\\u002fextra\\u003e\",\"legendgroup\":\"\",\"marker\":{\"color\":\"#636efa\",\"pattern\":{\"shape\":\"\"}},\"name\":\"\",\"offsetgroup\":\"\",\"orientation\":\"v\",\"showlegend\":false,\"x\":[53000,40000,40000,40000,35000,35000,35000,32000,30000,29000],\"xaxis\":\"x14\",\"yaxis\":\"y14\",\"type\":\"histogram\"},{\"alignmentgroup\":\"True\",\"bingroup\":\"x\",\"hovertemplate\":\"Major_category=Industrial Arts & Consumer Services\\u003cbr\\u003eMedian=%{x}\\u003cbr\\u003ecount=%{y}\\u003cextra\\u003e\\u003c\\u002fextra\\u003e\",\"legendgroup\":\"\",\"marker\":{\"color\":\"#636efa\",\"pattern\":{\"shape\":\"\"}},\"name\":\"\",\"offsetgroup\":\"\",\"orientation\":\"v\",\"showlegend\":false,\"x\":[50000,40000,38400,35000,32000,30000,29000],\"xaxis\":\"x15\",\"yaxis\":\"y15\",\"type\":\"histogram\"},{\"alignmentgroup\":\"True\",\"bingroup\":\"x\",\"hovertemplate\":\"Major_category=Arts\\u003cbr\\u003eMedian=%{x}\\u003cbr\\u003ecount=%{y}\\u003cextra\\u003e\\u003c\\u002fextra\\u003e\",\"legendgroup\":\"\",\"marker\":{\"color\":\"#636efa\",\"pattern\":{\"shape\":\"\"}},\"name\":\"\",\"offsetgroup\":\"\",\"orientation\":\"v\",\"showlegend\":false,\"x\":[50000,35000,32000,31000,30500,30000,29000,27000],\"xaxis\":\"x16\",\"yaxis\":\"y16\",\"type\":\"histogram\"},{\"alignmentgroup\":\"True\",\"bingroup\":\"x\",\"hovertemplate\":\"Major_category=Health\\u003cbr\\u003eMedian=%{x}\\u003cbr\\u003ecount=%{y}\\u003cextra\\u003e\\u003c\\u002fextra\\u003e\",\"legendgroup\":\"\",\"marker\":{\"color\":\"#636efa\",\"pattern\":{\"shape\":\"\"}},\"name\":\"\",\"offsetgroup\":\"\",\"orientation\":\"v\",\"showlegend\":false,\"x\":[48000,45000,42000,40000,36000,35000,35000,34000,33500,33000,32400,28000],\"xaxis\":\"x\",\"yaxis\":\"y\",\"type\":\"histogram\"},{\"alignmentgroup\":\"True\",\"bingroup\":\"x\",\"hovertemplate\":\"Major_category=Social Science\\u003cbr\\u003eMedian=%{x}\\u003cbr\\u003ecount=%{y}\\u003cextra\\u003e\\u003c\\u002fextra\\u003e\",\"legendgroup\":\"\",\"marker\":{\"color\":\"#636efa\",\"pattern\":{\"shape\":\"\"}},\"name\":\"\",\"offsetgroup\":\"\",\"orientation\":\"v\",\"showlegend\":false,\"x\":[47000,40100,40000,38000,38000,35000,33000,33000,32000],\"xaxis\":\"x2\",\"yaxis\":\"y2\",\"type\":\"histogram\"},{\"alignmentgroup\":\"True\",\"bingroup\":\"x\",\"hovertemplate\":\"Major_category=Biology & Life Science\\u003cbr\\u003eMedian=%{x}\\u003cbr\\u003ecount=%{y}\\u003cextra\\u003e\\u003c\\u002fextra\\u003e\",\"legendgroup\":\"\",\"marker\":{\"color\":\"#636efa\",\"pattern\":{\"shape\":\"\"}},\"name\":\"\",\"offsetgroup\":\"\",\"orientation\":\"v\",\"showlegend\":false,\"x\":[45000,41000,40000,40000,38000,37400,37000,35600,35000,35000,33500,33400,33000,26000],\"xaxis\":\"x3\",\"yaxis\":\"y3\",\"type\":\"histogram\"},{\"alignmentgroup\":\"True\",\"bingroup\":\"x\",\"hovertemplate\":\"Major_category=Education\\u003cbr\\u003eMedian=%{x}\\u003cbr\\u003ecount=%{y}\\u003cextra\\u003e\\u003c\\u002fextra\\u003e\",\"legendgroup\":\"\",\"marker\":{\"color\":\"#636efa\",\"pattern\":{\"shape\":\"\"}},\"name\":\"\",\"offsetgroup\":\"\",\"orientation\":\"v\",\"showlegend\":false,\"x\":[41000,35000,34000,34000,34000,34000,33000,33000,32500,32100,32000,32000,31000,30000,28000,22000],\"xaxis\":\"x4\",\"yaxis\":\"y4\",\"type\":\"histogram\"},{\"alignmentgroup\":\"True\",\"bingroup\":\"x\",\"hovertemplate\":\"Major_category=Humanities & Liberal Arts\\u003cbr\\u003eMedian=%{x}\\u003cbr\\u003ecount=%{y}\\u003cextra\\u003e\\u003c\\u002fextra\\u003e\",\"legendgroup\":\"\",\"marker\":{\"color\":\"#636efa\",\"pattern\":{\"shape\":\"\"}},\"name\":\"\",\"offsetgroup\":\"\",\"orientation\":\"v\",\"showlegend\":false,\"x\":[40000,35000,34000,34000,34000,33000,32200,32000,32000,31000,30000,29000,28000,27500,27000],\"xaxis\":\"x5\",\"yaxis\":\"y5\",\"type\":\"histogram\"},{\"alignmentgroup\":\"True\",\"bingroup\":\"x\",\"hovertemplate\":\"Major_category=Psychology & Social Work\\u003cbr\\u003eMedian=%{x}\\u003cbr\\u003ecount=%{y}\\u003cextra\\u003e\\u003c\\u002fextra\\u003e\",\"legendgroup\":\"\",\"marker\":{\"color\":\"#636efa\",\"pattern\":{\"shape\":\"\"}},\"name\":\"\",\"offsetgroup\":\"\",\"orientation\":\"v\",\"showlegend\":false,\"x\":[40000,36000,31500,30000,30000,30000,25000,25000,23400],\"xaxis\":\"x6\",\"yaxis\":\"y6\",\"type\":\"histogram\"},{\"alignmentgroup\":\"True\",\"bingroup\":\"x\",\"hovertemplate\":\"Major_category=Communications & Journalism\\u003cbr\\u003eMedian=%{x}\\u003cbr\\u003ecount=%{y}\\u003cextra\\u003e\\u003c\\u002fextra\\u003e\",\"legendgroup\":\"\",\"marker\":{\"color\":\"#636efa\",\"pattern\":{\"shape\":\"\"}},\"name\":\"\",\"offsetgroup\":\"\",\"orientation\":\"v\",\"showlegend\":false,\"x\":[35000,35000,35000,33000],\"xaxis\":\"x7\",\"yaxis\":\"y7\",\"type\":\"histogram\"},{\"alignmentgroup\":\"True\",\"bingroup\":\"x\",\"hovertemplate\":\"Major_category=Interdisciplinary\\u003cbr\\u003eMedian=%{x}\\u003cbr\\u003ecount=%{y}\\u003cextra\\u003e\\u003c\\u002fextra\\u003e\",\"legendgroup\":\"\",\"marker\":{\"color\":\"#636efa\",\"pattern\":{\"shape\":\"\"}},\"name\":\"\",\"offsetgroup\":\"\",\"orientation\":\"v\",\"showlegend\":false,\"x\":[35000],\"xaxis\":\"x8\",\"yaxis\":\"y8\",\"type\":\"histogram\"}],                        {\"template\":{\"data\":{\"histogram2dcontour\":[{\"type\":\"histogram2dcontour\",\"colorbar\":{\"outlinewidth\":0,\"ticks\":\"\"},\"colorscale\":[[0.0,\"#0d0887\"],[0.1111111111111111,\"#46039f\"],[0.2222222222222222,\"#7201a8\"],[0.3333333333333333,\"#9c179e\"],[0.4444444444444444,\"#bd3786\"],[0.5555555555555556,\"#d8576b\"],[0.6666666666666666,\"#ed7953\"],[0.7777777777777778,\"#fb9f3a\"],[0.8888888888888888,\"#fdca26\"],[1.0,\"#f0f921\"]]}],\"choropleth\":[{\"type\":\"choropleth\",\"colorbar\":{\"outlinewidth\":0,\"ticks\":\"\"}}],\"histogram2d\":[{\"type\":\"histogram2d\",\"colorbar\":{\"outlinewidth\":0,\"ticks\":\"\"},\"colorscale\":[[0.0,\"#0d0887\"],[0.1111111111111111,\"#46039f\"],[0.2222222222222222,\"#7201a8\"],[0.3333333333333333,\"#9c179e\"],[0.4444444444444444,\"#bd3786\"],[0.5555555555555556,\"#d8576b\"],[0.6666666666666666,\"#ed7953\"],[0.7777777777777778,\"#fb9f3a\"],[0.8888888888888888,\"#fdca26\"],[1.0,\"#f0f921\"]]}],\"heatmap\":[{\"type\":\"heatmap\",\"colorbar\":{\"outlinewidth\":0,\"ticks\":\"\"},\"colorscale\":[[0.0,\"#0d0887\"],[0.1111111111111111,\"#46039f\"],[0.2222222222222222,\"#7201a8\"],[0.3333333333333333,\"#9c179e\"],[0.4444444444444444,\"#bd3786\"],[0.5555555555555556,\"#d8576b\"],[0.6666666666666666,\"#ed7953\"],[0.7777777777777778,\"#fb9f3a\"],[0.8888888888888888,\"#fdca26\"],[1.0,\"#f0f921\"]]}],\"heatmapgl\":[{\"type\":\"heatmapgl\",\"colorbar\":{\"outlinewidth\":0,\"ticks\":\"\"},\"colorscale\":[[0.0,\"#0d0887\"],[0.1111111111111111,\"#46039f\"],[0.2222222222222222,\"#7201a8\"],[0.3333333333333333,\"#9c179e\"],[0.4444444444444444,\"#bd3786\"],[0.5555555555555556,\"#d8576b\"],[0.6666666666666666,\"#ed7953\"],[0.7777777777777778,\"#fb9f3a\"],[0.8888888888888888,\"#fdca26\"],[1.0,\"#f0f921\"]]}],\"contourcarpet\":[{\"type\":\"contourcarpet\",\"colorbar\":{\"outlinewidth\":0,\"ticks\":\"\"}}],\"contour\":[{\"type\":\"contour\",\"colorbar\":{\"outlinewidth\":0,\"ticks\":\"\"},\"colorscale\":[[0.0,\"#0d0887\"],[0.1111111111111111,\"#46039f\"],[0.2222222222222222,\"#7201a8\"],[0.3333333333333333,\"#9c179e\"],[0.4444444444444444,\"#bd3786\"],[0.5555555555555556,\"#d8576b\"],[0.6666666666666666,\"#ed7953\"],[0.7777777777777778,\"#fb9f3a\"],[0.8888888888888888,\"#fdca26\"],[1.0,\"#f0f921\"]]}],\"surface\":[{\"type\":\"surface\",\"colorbar\":{\"outlinewidth\":0,\"ticks\":\"\"},\"colorscale\":[[0.0,\"#0d0887\"],[0.1111111111111111,\"#46039f\"],[0.2222222222222222,\"#7201a8\"],[0.3333333333333333,\"#9c179e\"],[0.4444444444444444,\"#bd3786\"],[0.5555555555555556,\"#d8576b\"],[0.6666666666666666,\"#ed7953\"],[0.7777777777777778,\"#fb9f3a\"],[0.8888888888888888,\"#fdca26\"],[1.0,\"#f0f921\"]]}],\"mesh3d\":[{\"type\":\"mesh3d\",\"colorbar\":{\"outlinewidth\":0,\"ticks\":\"\"}}],\"scatter\":[{\"fillpattern\":{\"fillmode\":\"overlay\",\"size\":10,\"solidity\":0.2},\"type\":\"scatter\"}],\"parcoords\":[{\"type\":\"parcoords\",\"line\":{\"colorbar\":{\"outlinewidth\":0,\"ticks\":\"\"}}}],\"scatterpolargl\":[{\"type\":\"scatterpolargl\",\"marker\":{\"colorbar\":{\"outlinewidth\":0,\"ticks\":\"\"}}}],\"bar\":[{\"error_x\":{\"color\":\"#2a3f5f\"},\"error_y\":{\"color\":\"#2a3f5f\"},\"marker\":{\"line\":{\"color\":\"#E5ECF6\",\"width\":0.5},\"pattern\":{\"fillmode\":\"overlay\",\"size\":10,\"solidity\":0.2}},\"type\":\"bar\"}],\"scattergeo\":[{\"type\":\"scattergeo\",\"marker\":{\"colorbar\":{\"outlinewidth\":0,\"ticks\":\"\"}}}],\"scatterpolar\":[{\"type\":\"scatterpolar\",\"marker\":{\"colorbar\":{\"outlinewidth\":0,\"ticks\":\"\"}}}],\"histogram\":[{\"marker\":{\"pattern\":{\"fillmode\":\"overlay\",\"size\":10,\"solidity\":0.2}},\"type\":\"histogram\"}],\"scattergl\":[{\"type\":\"scattergl\",\"marker\":{\"colorbar\":{\"outlinewidth\":0,\"ticks\":\"\"}}}],\"scatter3d\":[{\"type\":\"scatter3d\",\"line\":{\"colorbar\":{\"outlinewidth\":0,\"ticks\":\"\"}},\"marker\":{\"colorbar\":{\"outlinewidth\":0,\"ticks\":\"\"}}}],\"scattermapbox\":[{\"type\":\"scattermapbox\",\"marker\":{\"colorbar\":{\"outlinewidth\":0,\"ticks\":\"\"}}}],\"scatterternary\":[{\"type\":\"scatterternary\",\"marker\":{\"colorbar\":{\"outlinewidth\":0,\"ticks\":\"\"}}}],\"scattercarpet\":[{\"type\":\"scattercarpet\",\"marker\":{\"colorbar\":{\"outlinewidth\":0,\"ticks\":\"\"}}}],\"carpet\":[{\"aaxis\":{\"endlinecolor\":\"#2a3f5f\",\"gridcolor\":\"white\",\"linecolor\":\"white\",\"minorgridcolor\":\"white\",\"startlinecolor\":\"#2a3f5f\"},\"baxis\":{\"endlinecolor\":\"#2a3f5f\",\"gridcolor\":\"white\",\"linecolor\":\"white\",\"minorgridcolor\":\"white\",\"startlinecolor\":\"#2a3f5f\"},\"type\":\"carpet\"}],\"table\":[{\"cells\":{\"fill\":{\"color\":\"#EBF0F8\"},\"line\":{\"color\":\"white\"}},\"header\":{\"fill\":{\"color\":\"#C8D4E3\"},\"line\":{\"color\":\"white\"}},\"type\":\"table\"}],\"barpolar\":[{\"marker\":{\"line\":{\"color\":\"#E5ECF6\",\"width\":0.5},\"pattern\":{\"fillmode\":\"overlay\",\"size\":10,\"solidity\":0.2}},\"type\":\"barpolar\"}],\"pie\":[{\"automargin\":true,\"type\":\"pie\"}]},\"layout\":{\"autotypenumbers\":\"strict\",\"colorway\":[\"#636efa\",\"#EF553B\",\"#00cc96\",\"#ab63fa\",\"#FFA15A\",\"#19d3f3\",\"#FF6692\",\"#B6E880\",\"#FF97FF\",\"#FECB52\"],\"font\":{\"color\":\"#2a3f5f\"},\"hovermode\":\"closest\",\"hoverlabel\":{\"align\":\"left\"},\"paper_bgcolor\":\"white\",\"plot_bgcolor\":\"#E5ECF6\",\"polar\":{\"bgcolor\":\"#E5ECF6\",\"angularaxis\":{\"gridcolor\":\"white\",\"linecolor\":\"white\",\"ticks\":\"\"},\"radialaxis\":{\"gridcolor\":\"white\",\"linecolor\":\"white\",\"ticks\":\"\"}},\"ternary\":{\"bgcolor\":\"#E5ECF6\",\"aaxis\":{\"gridcolor\":\"white\",\"linecolor\":\"white\",\"ticks\":\"\"},\"baxis\":{\"gridcolor\":\"white\",\"linecolor\":\"white\",\"ticks\":\"\"},\"caxis\":{\"gridcolor\":\"white\",\"linecolor\":\"white\",\"ticks\":\"\"}},\"coloraxis\":{\"colorbar\":{\"outlinewidth\":0,\"ticks\":\"\"}},\"colorscale\":{\"sequential\":[[0.0,\"#0d0887\"],[0.1111111111111111,\"#46039f\"],[0.2222222222222222,\"#7201a8\"],[0.3333333333333333,\"#9c179e\"],[0.4444444444444444,\"#bd3786\"],[0.5555555555555556,\"#d8576b\"],[0.6666666666666666,\"#ed7953\"],[0.7777777777777778,\"#fb9f3a\"],[0.8888888888888888,\"#fdca26\"],[1.0,\"#f0f921\"]],\"sequentialminus\":[[0.0,\"#0d0887\"],[0.1111111111111111,\"#46039f\"],[0.2222222222222222,\"#7201a8\"],[0.3333333333333333,\"#9c179e\"],[0.4444444444444444,\"#bd3786\"],[0.5555555555555556,\"#d8576b\"],[0.6666666666666666,\"#ed7953\"],[0.7777777777777778,\"#fb9f3a\"],[0.8888888888888888,\"#fdca26\"],[1.0,\"#f0f921\"]],\"diverging\":[[0,\"#8e0152\"],[0.1,\"#c51b7d\"],[0.2,\"#de77ae\"],[0.3,\"#f1b6da\"],[0.4,\"#fde0ef\"],[0.5,\"#f7f7f7\"],[0.6,\"#e6f5d0\"],[0.7,\"#b8e186\"],[0.8,\"#7fbc41\"],[0.9,\"#4d9221\"],[1,\"#276419\"]]},\"xaxis\":{\"gridcolor\":\"white\",\"linecolor\":\"white\",\"ticks\":\"\",\"title\":{\"standoff\":15},\"zerolinecolor\":\"white\",\"automargin\":true,\"zerolinewidth\":2},\"yaxis\":{\"gridcolor\":\"white\",\"linecolor\":\"white\",\"ticks\":\"\",\"title\":{\"standoff\":15},\"zerolinecolor\":\"white\",\"automargin\":true,\"zerolinewidth\":2},\"scene\":{\"xaxis\":{\"backgroundcolor\":\"#E5ECF6\",\"gridcolor\":\"white\",\"linecolor\":\"white\",\"showbackground\":true,\"ticks\":\"\",\"zerolinecolor\":\"white\",\"gridwidth\":2},\"yaxis\":{\"backgroundcolor\":\"#E5ECF6\",\"gridcolor\":\"white\",\"linecolor\":\"white\",\"showbackground\":true,\"ticks\":\"\",\"zerolinecolor\":\"white\",\"gridwidth\":2},\"zaxis\":{\"backgroundcolor\":\"#E5ECF6\",\"gridcolor\":\"white\",\"linecolor\":\"white\",\"showbackground\":true,\"ticks\":\"\",\"zerolinecolor\":\"white\",\"gridwidth\":2}},\"shapedefaults\":{\"line\":{\"color\":\"#2a3f5f\"}},\"annotationdefaults\":{\"arrowcolor\":\"#2a3f5f\",\"arrowhead\":0,\"arrowwidth\":1},\"geo\":{\"bgcolor\":\"white\",\"landcolor\":\"#E5ECF6\",\"subunitcolor\":\"white\",\"showland\":true,\"showlakes\":true,\"lakecolor\":\"white\"},\"title\":{\"x\":0.05},\"mapbox\":{\"style\":\"light\"}}},\"xaxis\":{\"anchor\":\"y\",\"domain\":[0.0,0.1075],\"title\":{\"text\":\"Median\"}},\"yaxis\":{\"anchor\":\"x\",\"domain\":[0.0,0.46499999999999997],\"title\":{\"text\":\"count\"}},\"xaxis2\":{\"anchor\":\"y2\",\"domain\":[0.1275,0.235],\"matches\":\"x\",\"title\":{\"text\":\"Median\"}},\"yaxis2\":{\"anchor\":\"x2\",\"domain\":[0.0,0.46499999999999997],\"matches\":\"y\",\"showticklabels\":false},\"xaxis3\":{\"anchor\":\"y3\",\"domain\":[0.255,0.3625],\"matches\":\"x\",\"title\":{\"text\":\"Median\"}},\"yaxis3\":{\"anchor\":\"x3\",\"domain\":[0.0,0.46499999999999997],\"matches\":\"y\",\"showticklabels\":false},\"xaxis4\":{\"anchor\":\"y4\",\"domain\":[0.3825,0.49],\"matches\":\"x\",\"title\":{\"text\":\"Median\"}},\"yaxis4\":{\"anchor\":\"x4\",\"domain\":[0.0,0.46499999999999997],\"matches\":\"y\",\"showticklabels\":false},\"xaxis5\":{\"anchor\":\"y5\",\"domain\":[0.51,0.6175],\"matches\":\"x\",\"title\":{\"text\":\"Median\"}},\"yaxis5\":{\"anchor\":\"x5\",\"domain\":[0.0,0.46499999999999997],\"matches\":\"y\",\"showticklabels\":false},\"xaxis6\":{\"anchor\":\"y6\",\"domain\":[0.6375,0.745],\"matches\":\"x\",\"title\":{\"text\":\"Median\"}},\"yaxis6\":{\"anchor\":\"x6\",\"domain\":[0.0,0.46499999999999997],\"matches\":\"y\",\"showticklabels\":false},\"xaxis7\":{\"anchor\":\"y7\",\"domain\":[0.765,0.8725],\"matches\":\"x\",\"title\":{\"text\":\"Median\"}},\"yaxis7\":{\"anchor\":\"x7\",\"domain\":[0.0,0.46499999999999997],\"matches\":\"y\",\"showticklabels\":false},\"xaxis8\":{\"anchor\":\"y8\",\"domain\":[0.8925000000000001,1.0],\"matches\":\"x\",\"title\":{\"text\":\"Median\"}},\"yaxis8\":{\"anchor\":\"x8\",\"domain\":[0.0,0.46499999999999997],\"matches\":\"y\",\"showticklabels\":false},\"xaxis9\":{\"anchor\":\"y9\",\"domain\":[0.0,0.1075],\"matches\":\"x\",\"showticklabels\":false},\"yaxis9\":{\"anchor\":\"x9\",\"domain\":[0.5349999999999999,0.9999999999999999],\"matches\":\"y\",\"title\":{\"text\":\"count\"}},\"xaxis10\":{\"anchor\":\"y10\",\"domain\":[0.1275,0.235],\"matches\":\"x\",\"showticklabels\":false},\"yaxis10\":{\"anchor\":\"x10\",\"domain\":[0.5349999999999999,0.9999999999999999],\"matches\":\"y\",\"showticklabels\":false},\"xaxis11\":{\"anchor\":\"y11\",\"domain\":[0.255,0.3625],\"matches\":\"x\",\"showticklabels\":false},\"yaxis11\":{\"anchor\":\"x11\",\"domain\":[0.5349999999999999,0.9999999999999999],\"matches\":\"y\",\"showticklabels\":false},\"xaxis12\":{\"anchor\":\"y12\",\"domain\":[0.3825,0.49],\"matches\":\"x\",\"showticklabels\":false},\"yaxis12\":{\"anchor\":\"x12\",\"domain\":[0.5349999999999999,0.9999999999999999],\"matches\":\"y\",\"showticklabels\":false},\"xaxis13\":{\"anchor\":\"y13\",\"domain\":[0.51,0.6175],\"matches\":\"x\",\"showticklabels\":false},\"yaxis13\":{\"anchor\":\"x13\",\"domain\":[0.5349999999999999,0.9999999999999999],\"matches\":\"y\",\"showticklabels\":false},\"xaxis14\":{\"anchor\":\"y14\",\"domain\":[0.6375,0.745],\"matches\":\"x\",\"showticklabels\":false},\"yaxis14\":{\"anchor\":\"x14\",\"domain\":[0.5349999999999999,0.9999999999999999],\"matches\":\"y\",\"showticklabels\":false},\"xaxis15\":{\"anchor\":\"y15\",\"domain\":[0.765,0.8725],\"matches\":\"x\",\"showticklabels\":false},\"yaxis15\":{\"anchor\":\"x15\",\"domain\":[0.5349999999999999,0.9999999999999999],\"matches\":\"y\",\"showticklabels\":false},\"xaxis16\":{\"anchor\":\"y16\",\"domain\":[0.8925000000000001,1.0],\"matches\":\"x\",\"showticklabels\":false},\"yaxis16\":{\"anchor\":\"x16\",\"domain\":[0.5349999999999999,0.9999999999999999],\"matches\":\"y\",\"showticklabels\":false},\"annotations\":[{\"font\":{},\"showarrow\":false,\"text\":\"Major_category=Health\",\"x\":0.05375,\"xanchor\":\"center\",\"xref\":\"paper\",\"y\":0.46499999999999997,\"yanchor\":\"bottom\",\"yref\":\"paper\"},{\"font\":{},\"showarrow\":false,\"text\":\"Major_category=Social Science\",\"x\":0.18125,\"xanchor\":\"center\",\"xref\":\"paper\",\"y\":0.46499999999999997,\"yanchor\":\"bottom\",\"yref\":\"paper\"},{\"font\":{},\"showarrow\":false,\"text\":\"Major_category=Biology & Life Science\",\"x\":0.30874999999999997,\"xanchor\":\"center\",\"xref\":\"paper\",\"y\":0.46499999999999997,\"yanchor\":\"bottom\",\"yref\":\"paper\"},{\"font\":{},\"showarrow\":false,\"text\":\"Major_category=Education\",\"x\":0.43625,\"xanchor\":\"center\",\"xref\":\"paper\",\"y\":0.46499999999999997,\"yanchor\":\"bottom\",\"yref\":\"paper\"},{\"font\":{},\"showarrow\":false,\"text\":\"Major_category=Humanities & Liberal Arts\",\"x\":0.56375,\"xanchor\":\"center\",\"xref\":\"paper\",\"y\":0.46499999999999997,\"yanchor\":\"bottom\",\"yref\":\"paper\"},{\"font\":{},\"showarrow\":false,\"text\":\"Major_category=Psychology & Social Work\",\"x\":0.6912499999999999,\"xanchor\":\"center\",\"xref\":\"paper\",\"y\":0.46499999999999997,\"yanchor\":\"bottom\",\"yref\":\"paper\"},{\"font\":{},\"showarrow\":false,\"text\":\"Major_category=Communications & Journalism\",\"x\":0.8187500000000001,\"xanchor\":\"center\",\"xref\":\"paper\",\"y\":0.46499999999999997,\"yanchor\":\"bottom\",\"yref\":\"paper\"},{\"font\":{},\"showarrow\":false,\"text\":\"Major_category=Interdisciplinary\",\"x\":0.94625,\"xanchor\":\"center\",\"xref\":\"paper\",\"y\":0.46499999999999997,\"yanchor\":\"bottom\",\"yref\":\"paper\"},{\"font\":{},\"showarrow\":false,\"text\":\"Major_category=Engineering\",\"x\":0.05375,\"xanchor\":\"center\",\"xref\":\"paper\",\"y\":0.9999999999999999,\"yanchor\":\"bottom\",\"yref\":\"paper\"},{\"font\":{},\"showarrow\":false,\"text\":\"Major_category=Business\",\"x\":0.18125,\"xanchor\":\"center\",\"xref\":\"paper\",\"y\":0.9999999999999999,\"yanchor\":\"bottom\",\"yref\":\"paper\"},{\"font\":{},\"showarrow\":false,\"text\":\"Major_category=Physical Sciences\",\"x\":0.30874999999999997,\"xanchor\":\"center\",\"xref\":\"paper\",\"y\":0.9999999999999999,\"yanchor\":\"bottom\",\"yref\":\"paper\"},{\"font\":{},\"showarrow\":false,\"text\":\"Major_category=Law & Public Policy\",\"x\":0.43625,\"xanchor\":\"center\",\"xref\":\"paper\",\"y\":0.9999999999999999,\"yanchor\":\"bottom\",\"yref\":\"paper\"},{\"font\":{},\"showarrow\":false,\"text\":\"Major_category=Computers & Mathematics\",\"x\":0.56375,\"xanchor\":\"center\",\"xref\":\"paper\",\"y\":0.9999999999999999,\"yanchor\":\"bottom\",\"yref\":\"paper\"},{\"font\":{},\"showarrow\":false,\"text\":\"Major_category=Agriculture & Natural Resources\",\"x\":0.6912499999999999,\"xanchor\":\"center\",\"xref\":\"paper\",\"y\":0.9999999999999999,\"yanchor\":\"bottom\",\"yref\":\"paper\"},{\"font\":{},\"showarrow\":false,\"text\":\"Major_category=Industrial Arts & Consumer Services\",\"x\":0.8187500000000001,\"xanchor\":\"center\",\"xref\":\"paper\",\"y\":0.9999999999999999,\"yanchor\":\"bottom\",\"yref\":\"paper\"},{\"font\":{},\"showarrow\":false,\"text\":\"Major_category=Arts\",\"x\":0.94625,\"xanchor\":\"center\",\"xref\":\"paper\",\"y\":0.9999999999999999,\"yanchor\":\"bottom\",\"yref\":\"paper\"}],\"legend\":{\"tracegroupgap\":0},\"margin\":{\"t\":60},\"barmode\":\"relative\"},                        {\"responsive\": true}                    ).then(function(){\n",
       "                            \n",
       "var gd = document.getElementById('d6078401-969b-4e61-8326-b49ea5cb33ed');\n",
       "var x = new MutationObserver(function (mutations, observer) {{\n",
       "        var display = window.getComputedStyle(gd).display;\n",
       "        if (!display || display === 'none') {{\n",
       "            console.log([gd, 'removed!']);\n",
       "            Plotly.purge(gd);\n",
       "            observer.disconnect();\n",
       "        }}\n",
       "}});\n",
       "\n",
       "// Listen for the removal of the full notebook cells\n",
       "var notebookContainer = gd.closest('#notebook-container');\n",
       "if (notebookContainer) {{\n",
       "    x.observe(notebookContainer, {childList: true});\n",
       "}}\n",
       "\n",
       "// Listen for the clearing of the current output cell\n",
       "var outputEl = gd.closest('.output');\n",
       "if (outputEl) {{\n",
       "    x.observe(outputEl, {childList: true});\n",
       "}}\n",
       "\n",
       "                        })                };                });            </script>        </div>"
      ]
     },
     "metadata": {},
     "output_type": "display_data"
    }
   ],
   "source": [
    "px.histogram(df_raw,\n",
    "             x = 'Median',\n",
    "             facet_col = 'Major_category',\n",
    "             facet_col_wrap = 8)\n",
    "            \n",
    "    "
   ]
  },
  {
   "cell_type": "markdown",
   "id": "39d4118e-26d8-4f81-8d65-569c4b6d97d1",
   "metadata": {},
   "source": [
    "### 3. More complicated questions\n",
    "\n",
    "* Are all STEM fields the same in terms job opportunities?\n",
    "    * Assume the following are STEM major categories\n",
    "    \n",
    "  ``` [\"Biology & Life Science\", \"Computers & Mathematics\", \"Engineering\",\"Physical Sciences\"]```\n",
    "  \n",
    "    * Create a DataFrame (using a mask) so you only look at STEM majors.\n",
    "    * Which STEM majors have median salaries equal to or less than the median for all majors' median earnings?\n",
    "* What types of majors do women tend to major in?\n",
    "    * Create a scatterplot of median income vs. proportion of women in that major, coloured by whether the major is in a STEM field or not."
   ]
  },
  {
   "cell_type": "code",
   "execution_count": null,
   "id": "60026c87-717a-473d-a2f5-60d0fe3b178b",
   "metadata": {},
   "outputs": [],
   "source": []
  },
  {
   "cell_type": "markdown",
   "id": "b9f65c22-2c17-495a-be1e-66e1dd2e183a",
   "metadata": {},
   "source": [
    "**(Click Here to Explain your Results)**"
   ]
  },
  {
   "cell_type": "markdown",
   "id": "b3df8412-b946-4812-ba3b-873fb0eb8d7c",
   "metadata": {},
   "source": [
    "### 4. Ask a question of interest to you."
   ]
  },
  {
   "cell_type": "code",
   "execution_count": 24,
   "id": "25a08e99-946a-4003-a477-1dc941e4357e",
   "metadata": {},
   "outputs": [],
   "source": [
    "#"
   ]
  },
  {
   "cell_type": "markdown",
   "id": "0940ef30-6ee7-42c8-8747-80f4b2bb8e3f",
   "metadata": {},
   "source": [
    "**(Click Here to Explain your Results)**"
   ]
  }
 ],
 "metadata": {
  "kernelspec": {
   "display_name": "Python 3 (ipykernel)",
   "language": "python",
   "name": "python3"
  },
  "language_info": {
   "codemirror_mode": {
    "name": "ipython",
    "version": 3
   },
   "file_extension": ".py",
   "mimetype": "text/x-python",
   "name": "python",
   "nbconvert_exporter": "python",
   "pygments_lexer": "ipython3",
   "version": "3.11.7"
  }
 },
 "nbformat": 4,
 "nbformat_minor": 5
}
